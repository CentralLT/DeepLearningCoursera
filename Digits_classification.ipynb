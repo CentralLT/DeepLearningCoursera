{
  "nbformat": 4,
  "nbformat_minor": 0,
  "metadata": {
    "colab": {
      "name": "Copy of digits_classification.ipynb",
      "provenance": [],
      "include_colab_link": true
    },
    "language_info": {
      "codemirror_mode": {
        "name": "ipython",
        "version": 3
      },
      "file_extension": ".py",
      "mimetype": "text/x-python",
      "name": "python",
      "nbconvert_exporter": "python",
      "pygments_lexer": "ipython3",
      "version": "3.6.5"
    },
    "kernelspec": {
      "name": "python3",
      "display_name": "Python 3"
    },
    "accelerator": "TPU"
  },
  "cells": [
    {
      "cell_type": "markdown",
      "metadata": {
        "id": "view-in-github",
        "colab_type": "text"
      },
      "source": [
        "<a href=\"https://colab.research.google.com/github/CentralLT/DeepLearningCoursera/blob/master/Digits_classification.ipynb\" target=\"_parent\"><img src=\"https://colab.research.google.com/assets/colab-badge.svg\" alt=\"Open In Colab\"/></a>"
      ]
    },
    {
      "cell_type": "markdown",
      "metadata": {
        "id": "gcb0NMrl357B"
      },
      "source": [
        "# MNIST digits classification with TensorFlow"
      ]
    },
    {
      "cell_type": "markdown",
      "metadata": {
        "id": "aC-evZx6357E"
      },
      "source": [
        "<img src=\"https://github.com/hse-aml/intro-to-dl/blob/master/week2/v2/images/mnist_sample.png?raw=1\" style=\"width:30%\">"
      ]
    },
    {
      "cell_type": "code",
      "metadata": {
        "id": "PHXUbn_O41Mn",
        "outputId": "8e5ddaab-d7a2-4999-efd2-9efed41f6027",
        "colab": {
          "base_uri": "https://localhost:8080/",
          "height": 326
        }
      },
      "source": [
        "! shred -u setup_google_colab.py\n",
        "! wget https://raw.githubusercontent.com/hse-aml/intro-to-dl/master/setup_google_colab.py -O setup_google_colab.py\n",
        "import setup_google_colab\n",
        "# please, uncomment the week you're working on\n",
        "# setup_google_colab.setup_week1()\n",
        "setup_google_colab.setup_week2()\n",
        "# setup_google_colab.setup_week3()\n",
        "# setup_google_colab.setup_week4()\n",
        "# setup_google_colab.setup_week5()\n",
        "# setup_google_colab.setup_week6()\n",
        "\n",
        "# If you're using the old version of the course (check a path of notebook on Coursera, you'll see v1 or v2),\n",
        "# use setup_week2_old()."
      ],
      "execution_count": null,
      "outputs": [
        {
          "output_type": "stream",
          "text": [
            "--2019-07-10 17:17:40--  https://raw.githubusercontent.com/hse-aml/intro-to-dl/master/setup_google_colab.py\n",
            "Resolving raw.githubusercontent.com (raw.githubusercontent.com)... 151.101.0.133, 151.101.64.133, 151.101.128.133, ...\n",
            "Connecting to raw.githubusercontent.com (raw.githubusercontent.com)|151.101.0.133|:443... connected.\n",
            "HTTP request sent, awaiting response... 200 OK\n",
            "Length: 3792 (3.7K) [text/plain]\n",
            "Saving to: ‘setup_google_colab.py’\n",
            "\n",
            "\rsetup_google_colab.   0%[                    ]       0  --.-KB/s               \rsetup_google_colab. 100%[===================>]   3.70K  --.-KB/s    in 0s      \n",
            "\n",
            "2019-07-10 17:17:40 (53.7 MB/s) - ‘setup_google_colab.py’ saved [3792/3792]\n",
            "\n",
            "**************************************************\n",
            "inception_v3_weights_tf_dim_ordering_tf_kernels_notop.h5\n",
            "**************************************************\n",
            "cifar-10-batches-py.tar.gz\n",
            "**************************************************\n",
            "mnist.npz\n"
          ],
          "name": "stdout"
        }
      ]
    },
    {
      "cell_type": "code",
      "metadata": {
        "id": "uP7zqg1z357F",
        "outputId": "d7a6348b-0582-4543-a3c2-16ad87ccb192",
        "colab": {
          "base_uri": "https://localhost:8080/",
          "height": 35
        }
      },
      "source": [
        "import numpy as np\n",
        "from sklearn.metrics import accuracy_score\n",
        "from matplotlib import pyplot as plt\n",
        "%matplotlib inline\n",
        "import tensorflow as tf\n",
        "print(\"We're using TF\", tf.__version__)\n",
        "\n",
        "import sys\n",
        "sys.path.append(\"../..\")\n",
        "import grading\n",
        "\n",
        "import matplotlib_utils\n",
        "from importlib import reload\n",
        "reload(matplotlib_utils)\n",
        "\n",
        "import grading_utils\n",
        "reload(grading_utils)\n",
        "\n",
        "import keras_utils\n",
        "from keras_utils import reset_tf_session"
      ],
      "execution_count": null,
      "outputs": [
        {
          "output_type": "stream",
          "text": [
            "We're using TF 1.14.0\n"
          ],
          "name": "stdout"
        }
      ]
    },
    {
      "cell_type": "markdown",
      "metadata": {
        "id": "Qa27IUBA357K"
      },
      "source": [
        "# Fill in your Coursera token and email\n",
        "To successfully submit your answers to our grader, please fill in your Coursera submission token and email"
      ]
    },
    {
      "cell_type": "code",
      "metadata": {
        "id": "ap971LaO357L"
      },
      "source": [
        "grader = grading.Grader(assignment_key=\"XtD7ho3TEeiHQBLWejjYAA\", \n",
        "                        all_parts=[\"9XaAS\", \"vmogZ\", \"RMv95\", \"i8bgs\", \"rE763\"])"
      ],
      "execution_count": null,
      "outputs": []
    },
    {
      "cell_type": "code",
      "metadata": {
        "id": "6qy-XJvn357O"
      },
      "source": [
        "# token expires every 30 min\n",
        "COURSERA_TOKEN = \"x\"\n",
        "COURSERA_EMAIL = \"x\""
      ],
      "execution_count": null,
      "outputs": []
    },
    {
      "cell_type": "markdown",
      "metadata": {
        "id": "Ypxbm7AX357R"
      },
      "source": [
        "# Look at the data\n",
        "\n",
        "In this task we have 50000 28x28 images of digits from 0 to 9.\n",
        "We will train a classifier on this data."
      ]
    },
    {
      "cell_type": "code",
      "metadata": {
        "id": "8KqJLHEK357S"
      },
      "source": [
        "import preprocessed_mnist\n",
        "X_train, y_train, X_val, y_val, X_test, y_test = preprocessed_mnist.load_dataset()"
      ],
      "execution_count": null,
      "outputs": []
    },
    {
      "cell_type": "code",
      "metadata": {
        "id": "4YnVvz1Y357V",
        "outputId": "d37d079e-69a7-4ac7-e629-a65b61c37572",
        "colab": {
          "base_uri": "https://localhost:8080/",
          "height": 703
        }
      },
      "source": [
        "# X contains rgb values divided by 255\n",
        "print(\"X_train [shape %s] sample patch:\\n\" % (str(X_train.shape)), X_train[1, 15:20, 5:10])\n",
        "print(\"A closeup of a sample patch:\")\n",
        "plt.imshow(X_train[1, 15:20, 5:10], cmap=\"Greys\")\n",
        "plt.show()\n",
        "print(\"And the whole sample:\")\n",
        "plt.imshow(X_train[1], cmap=\"Greys\")\n",
        "plt.show()\n",
        "print(\"y_train [shape %s] 10 samples:\\n\" % (str(y_train.shape)), y_train[:10])"
      ],
      "execution_count": null,
      "outputs": [
        {
          "output_type": "stream",
          "text": [
            "X_train [shape (50000, 28, 28)] sample patch:\n",
            " [[0.         0.29803922 0.96470588 0.98823529 0.43921569]\n",
            " [0.         0.33333333 0.98823529 0.90196078 0.09803922]\n",
            " [0.         0.33333333 0.98823529 0.8745098  0.        ]\n",
            " [0.         0.33333333 0.98823529 0.56862745 0.        ]\n",
            " [0.         0.3372549  0.99215686 0.88235294 0.        ]]\n",
            "A closeup of a sample patch:\n"
          ],
          "name": "stdout"
        },
        {
          "output_type": "display_data",
          "data": {
            "image/png": "[encoded data removed]",
            "text/plain": [
              "<Figure size 432x288 with 1 Axes>"
            ]
          },
          "metadata": {
            "tags": []
          }
        },
        {
          "output_type": "stream",
          "text": [
            "And the whole sample:\n"
          ],
          "name": "stdout"
        },
        {
          "output_type": "display_data",
          "data": {
            "image/png": "[encoded data removed]",
            "text/plain": [
              "<Figure size 432x288 with 1 Axes>"
            ]
          },
          "metadata": {
            "tags": []
          }
        },
        {
          "output_type": "stream",
          "text": [
            "y_train [shape (50000,)] 10 samples:\n",
            " [5 0 4 1 9 2 1 3 1 4]\n"
          ],
          "name": "stdout"
        }
      ]
    },
    {
      "cell_type": "markdown",
      "metadata": {
        "id": "GklFSMgF357Y"
      },
      "source": [
        "# Linear model\n",
        "\n",
        "Your task is to train a linear classifier $\\vec{x} \\rightarrow y$ with SGD using TensorFlow.\n",
        "\n",
        "You will need to calculate a logit (a linear transformation) $z_k$ for each class: \n",
        "$$z_k = \\vec{x} \\cdot \\vec{w_k} + b_k \\quad k = 0..9$$\n",
        "\n",
        "And transform logits $z_k$ to valid probabilities $p_k$ with softmax: \n",
        "$$p_k = \\frac{e^{z_k}}{\\sum_{i=0}^{9}{e^{z_i}}} \\quad k = 0..9$$\n",
        "\n",
        "We will use a cross-entropy loss to train our multi-class classifier:\n",
        "$$\\text{cross-entropy}(y, p) = -\\sum_{k=0}^{9}{\\log(p_k)[y = k]}$$ \n",
        "\n",
        "where \n",
        "$$\n",
        "[x]=\\begin{cases}\n",
        "       1, \\quad \\text{if $x$ is true} \\\\\n",
        "       0, \\quad \\text{otherwise}\n",
        "    \\end{cases}\n",
        "$$\n",
        "\n",
        "Cross-entropy minimization pushes $p_k$ close to 1 when $y = k$, which is what we want.\n",
        "\n",
        "Here's the plan:\n",
        "* Flatten the images (28x28 -> 784) with `X_train.reshape((X_train.shape[0], -1))` to simplify our linear model implementation\n",
        "* Use a matrix placeholder for flattened `X_train`\n",
        "* Convert `y_train` to one-hot encoded vectors that are needed for cross-entropy\n",
        "* Use a shared variable `W` for all weights (a column $\\vec{w_k}$ per class) and `b` for all biases.\n",
        "* Aim for ~0.93 validation accuracy"
      ]
    },
    {
      "cell_type": "code",
      "metadata": {
        "id": "h6EtLn8u357Z",
        "outputId": "d35c4003-2c0f-4482-ef46-9515dbfc3db1",
        "colab": {
          "base_uri": "https://localhost:8080/",
          "height": 54
        }
      },
      "source": [
        "X_train_flat = X_train.reshape((X_train.shape[0], -1))\n",
        "print(X_train_flat.shape)\n",
        "\n",
        "X_val_flat = X_val.reshape((X_val.shape[0], -1))\n",
        "print(X_val_flat.shape)"
      ],
      "execution_count": null,
      "outputs": [
        {
          "output_type": "stream",
          "text": [
            "(50000, 784)\n",
            "(10000, 784)\n"
          ],
          "name": "stdout"
        }
      ]
    },
    {
      "cell_type": "code",
      "metadata": {
        "id": "D_GMS3IZ357c",
        "outputId": "2670dd3e-4cf6-4037-b5a9-ef7517d168af",
        "colab": {
          "base_uri": "https://localhost:8080/",
          "height": 90
        }
      },
      "source": [
        "import keras\n",
        "\n",
        "y_train_oh = keras.utils.to_categorical(y_train, 10)\n",
        "y_val_oh = keras.utils.to_categorical(y_val, 10)\n",
        "\n",
        "print(y_train_oh.shape)\n",
        "print(y_train_oh[:3], y_train[:3])"
      ],
      "execution_count": null,
      "outputs": [
        {
          "output_type": "stream",
          "text": [
            "(50000, 10)\n",
            "[[0. 0. 0. 0. 0. 1. 0. 0. 0. 0.]\n",
            " [1. 0. 0. 0. 0. 0. 0. 0. 0. 0.]\n",
            " [0. 0. 0. 0. 1. 0. 0. 0. 0. 0.]] [5 0 4]\n"
          ],
          "name": "stdout"
        }
      ]
    },
    {
      "cell_type": "code",
      "metadata": {
        "id": "lbN6fNrT357e",
        "outputId": "4e92930a-9d45-4602-9de4-811025f17816",
        "colab": {
          "base_uri": "https://localhost:8080/",
          "height": 35
        }
      },
      "source": [
        "# run this again if you remake your graph\n",
        "s = reset_tf_session()\n",
        "tf.reset_default_graph"
      ],
      "execution_count": null,
      "outputs": [
        {
          "output_type": "execute_result",
          "data": {
            "text/plain": [
              "<function tensorflow.python.framework.ops.reset_default_graph>"
            ]
          },
          "metadata": {
            "tags": []
          },
          "execution_count": 41
        }
      ]
    },
    {
      "cell_type": "code",
      "metadata": {
        "id": "eLIC2Kjc357l"
      },
      "source": [
        "# Placeholders for the input data\n",
        "input_X = tf.placeholder(shape = (None, X_train_flat.shape[1]), dtype = tf.float32)### YOUR CODE HERE ### tf.placeholder(...) for flat X with shape[0] = None for any batch size\n",
        "input_y = tf.placeholder(shape = (None, y_train_oh.shape[1]),  dtype = tf.float32)### YOUR CODE HERE ### tf.placeholder(...) for one-hot encoded true labels"
      ],
      "execution_count": null,
      "outputs": []
    },
    {
      "cell_type": "code",
      "metadata": {
        "id": "sW9OM0IO357i"
      },
      "source": [
        "# Model parameters: W and b\n",
        "W = tf.get_variable(shape = (input_X.shape[1], input_y.shape[1]), dtype = tf.float32, name= \"Weights_Output\")### YOUR CODE HERE ### tf.get_variable(...) with shape[0] = 784\n",
        "b = tf.get_variable(shape = (input_y.shape[1]), dtype = tf.float32, name = \"Bias_Output\")### YOUR CODE HERE ### tf.get_variable(...)"
      ],
      "execution_count": null,
      "outputs": []
    },
    {
      "cell_type": "code",
      "metadata": {
        "id": "xYuWxZwH357p"
      },
      "source": [
        "# Compute predictions\n",
        "z = tf.add(tf.linalg.matmul(input_X, W),b)\n",
        "logits = tf.math.log(1/(1+tf.math.exp(-1*z)))\n",
        "#logits = tf.math.log(tf.math.sigmoid(tf.math.add(tf.matmul(input_X, W), b)))### YOUR CODE HERE ### logits for input_X, resulting shape should be [input_X.shape[0], 10]\n",
        "probas = tf.nn.softmax(logits)### YOUR CODE HERE ### apply tf.nn.softmax to logits\n",
        "classes = tf.math.argmax(input = probas, axis =1) ### YOUR CODE HERE ### apply tf.argmax to find a class index with highest probability\n",
        "\n",
        "# Loss should be a scalar number: average loss over all the objects with tf.reduce_mean().\n",
        "# Use tf.nn.softmax_cross_entropy_with_logits on top of one-hot encoded input_y and logits.\n",
        "# It is identical to calculating cross-entropy on top of probas, but is more numerically friendly (read the docs).\n",
        "loss = tf.reduce_mean(tf.nn.softmax_cross_entropy_with_logits_v2(input_y, logits))### YOUR CODE HERE ### cross-entropy loss\n",
        "\n",
        "# Use a default tf.train.AdamOptimizer to get an SGD step\n",
        "step = tf.train.AdamOptimizer().minimize(loss)## YOUR CODE HERE ### optimizer step that minimizes the loss"
      ],
      "execution_count": null,
      "outputs": []
    },
    {
      "cell_type": "code",
      "metadata": {
        "scrolled": false,
        "id": "g4v2sx1m357s",
        "outputId": "0a507f35-aff2-4376-b443-557bdd7410ad",
        "colab": {
          "base_uri": "https://localhost:8080/",
          "height": 308
        }
      },
      "source": [
        "s.run(tf.global_variables_initializer())\n",
        "\n",
        "BATCH_SIZE = 512\n",
        "EPOCHS = 40\n",
        "\n",
        "# for logging the progress right here in Jupyter (for those who don't have TensorBoard)\n",
        "simpleTrainingCurves = matplotlib_utils.SimpleTrainingCurves(\"cross-entropy\", \"accuracy\")\n",
        "\n",
        "for epoch in range(EPOCHS):  # we finish an epoch when we've looked at all training samples\n",
        "    \n",
        "    batch_losses = []\n",
        "    for batch_start in range(0, X_train_flat.shape[0], BATCH_SIZE):  # data is already shuffled\n",
        "        _, batch_loss = s.run([step, loss], {input_X: X_train_flat[batch_start:batch_start+BATCH_SIZE], \n",
        "                                             input_y: y_train_oh[batch_start:batch_start+BATCH_SIZE]})\n",
        "        # collect batch losses, this is almost free as we need a forward pass for backprop anyway\n",
        "        batch_losses.append(batch_loss)\n",
        "\n",
        "    train_loss = np.mean(batch_losses)\n",
        "    val_loss = s.run(loss, {input_X: X_val_flat, input_y: y_val_oh})  # this part is usually small\n",
        "    train_accuracy = accuracy_score(y_train, s.run(classes, {input_X: X_train_flat}))  # this is slow and usually skipped\n",
        "    valid_accuracy = accuracy_score(y_val, s.run(classes, {input_X: X_val_flat}))  \n",
        "    simpleTrainingCurves.add(train_loss, val_loss, train_accuracy, valid_accuracy)\n",
        "s.close()"
      ],
      "execution_count": null,
      "outputs": [
        {
          "output_type": "display_data",
          "data": {
            "text/html": [
              "<img src=\"data:image/jpeg;base64,/9j/4AAQSkZJRgABAQEASABIAAD/2wBDAAIBAQEBAQIBAQECAgICAgQDAgICAgUEBAMEBgUGBgYFBgYGBwkIBgcJBwYGCAsICQoKCgoKBggLDAsKDAkKCgr/2wBDAQICAgICAgUDAwUKBwYHCgoKCgoKCgoKCgoKCgoKCgoKCgoKCgoKCgoKCgoKCgoKCgoKCgoKCgoKCgoKCgoKCgr/wAARCAEgA2ADASIAAhEBAxEB/8QAHwAAAQUBAQEBAQEAAAAAAAAAAAECAwQFBgcICQoL/8QAtRAAAgEDAwIEAwUFBAQAAAF9AQIDAAQRBRIhMUEGE1FhByJxFDKBkaEII0KxwRVS0fAkM2JyggkKFhcYGRolJicoKSo0NTY3ODk6Q0RFRkdISUpTVFVWV1hZWmNkZWZnaGlqc3R1dnd4eXqDhIWGh4iJipKTlJWWl5iZmqKjpKWmp6ipqrKztLW2t7i5usLDxMXGx8jJytLT1NXW19jZ2uHi4%2BTl5ufo6erx8vP09fb3%2BPn6/8QAHwEAAwEBAQEBAQEBAQAAAAAAAAECAwQFBgcICQoL/8QAtREAAgECBAQDBAcFBAQAAQJ3AAECAxEEBSExBhJBUQdhcRMiMoEIFEKRobHBCSMzUvAVYnLRChYkNOEl8RcYGRomJygpKjU2Nzg5OkNERUZHSElKU1RVVldYWVpjZGVmZ2hpanN0dXZ3eHl6goOEhYaHiImKkpOUlZaXmJmaoqOkpaanqKmqsrO0tba3uLm6wsPExcbHyMnK0tPU1dbX2Nna4uPk5ebn6Onq8vP09fb3%2BPn6/9oADAMBAAIRAxEAPwD9/KKKKACiiigAooooAKKKKACiiigAooooAKKKKACiiigAooooAKKKKACiiigAooooAKKKKACiiigAooooAKKKKACiiigAooooAKKKKACiiigAooooAKKKKACiiigAooooAKKKKACiiigAooooAKKKKACiiigAooooAKKKKACiiigAooooAKKKKACiiigAooooAKKKKACiiigAooooAKKKKACiiigAooooAKKKKACiiigAooooAKKKKACiiigAooooAKKKKACiiigAooooAKKKKACiiigAooooAKKKKACiiigAooooAKKKKACiiigAooooAKKKKACiiigAooooAKKKKACiiigAooooAKKKKACvPfjt%2B1J8FP2b5NGsfil4g1Maj4ilnTQNB8OeF9R1zVNR8lVed4bHTbee5kjiVkMkixlI96biu5c%2BhV4N%2B0P8D/j5/wANJ%2BDv2tv2bLLwfrWueH/B2seFNX8KeOdcutLtLywv7mwuxcQXtraXj288U2noCpt3WVJSCUKK1ABpf/BTL9izWLvxPb2nxXv0h8FWsk/jLUrvwXrEFjoIS0iu9l5dy2iwWsrQzRskMjrJIWKorMrKL2n/APBQ/wDZK1HwBrXxFTx/q9vB4f1ay0vVdE1DwNrNrrkV5ebfscC6PNaLqEr3AYGER27eaAxTcFYjy2b9gH4y%2BMf2a/jn8NfGHinwppHin4o/FS38daHc6U1xeWFpeW0OiywQ3IkihkkiN3pRRwoyYHGDuJVaPi79i/8AaV%2BLmr/Ef45fG34S/CjWvFnjWx8KaPp/gKy%2BI2s2Wm6fY6Hcaldw3qa7b6al5DqDXOqTOksVoPJSKNFZiWcgHsviH9vv9mzwv4a8OeI9XvvG3meK0v5NE8P2vwm8SXGuSRWUscV3NJpMWntf28MLzQq8s0CIpmiy37xM%2Bmaz8RPBHhv4e3XxX8T%2BJbbSvDljo76rf6vqrfZYbSySIzPPMZdvlKsYLNvxtAOcYNfGHin9hH9s/WPgX4X8Nay3hfxV470a58RHRfGV/wDHbxNpGr%2BCLW%2BuUktLO11q1sJLzXIYkjhEy3qw/aTbReYCFGPUfjR/wTotfj1%2Bzb4n%2BHHxD%2BOfjW78d%2BMPhfH4Z17xS3jbWho818tpDE2oJoS3y2FuzzQLK3kRRSEPIBIrSM5AOkg/4KUfsZf8K58V/FbWPite6Jo3giysr7xQ/ifwdq%2Bk3NlZXkxhtb37LeWsVxJaSyK6pcxxtC3luQ%2BEYjj/AI3f8FZP2d/hn8ENU%2BMfgPRfFXiqbQfiD4X8L674Y/4QXXbHU7A6zqVrax3T2cmnNdeV5Fw88DeT5d48aW8MhknjB8r1T/gmJ8ZPHfwq8faR4i8DeG9G8Y%2BI9D0fR7DxDqv7RfjPxut3aWusW%2BoTRyf27AfsEZ8likUSzHe%2BGkxknv8A9qH9gz40/GD4g/F/4g%2BBfEPheOTxfB8LbzwlZ6tfXMSvf%2BE/EdzrUsN40dvJ5ENwGt4VljEzrl2MfyKrgHqFh/wUE/Zb1H4m2XwZh8T%2BJo/Fd5oun6xLoF38N9egudO0%2B9adILu/SSyU6dDut5VeS68pYiFEhQum6j4a/wCCmH7FPi3wZ4s%2BIWkfGC4TR/Bfgi68Zaxe6h4S1W0Fx4et0Z5tWsVntUbVLNVQ4nsxPGxZArEugbB0P9kP4ofEP4mfG74g/G9fD2gxfGj4O%2BHfCF1Y%2BE9duNRl0u4tE11Ltlnns7XzYwNViMT7FZikm6OPA3fN37Y37Kn7UOj/ALDHxS%2BJv7TF34AtIfhD%2BxT8QfBHhePwFqF5cNrzXukWxn1G6W5toBYqE0i3CWcbXAVppCZ22oKAPrPw9/wUl/Yy8TaHrHiPT/i1dQWehppU1/JqnhLVbJmtNSu1s7HUIUuLVGubCWdgovoQ9qoDO0qorMPT9E%2BLvw88R/FLX/gvofiH7T4k8LaXp%2Boa/YR2k22zgvmuBa7pinlF3%2ByzHy1cyKoRmVVkjLfJOofsz%2BIPFegeKfjb/wAFIvF/wz8J%2BBbf9nu5%2BHUlx4f8QTLay6beyQyXmq3k17BbpYOTBbCG2QzCAmT/AEiQsuOw/wCCPngP4u2f7I9r8f8A9pDUDf8AxJ%2BL15H4n8V6g9nJbtJCLSCy01fKl%2BeH/iX2lpI0TYKSzTZAYtkA%2BqqKKKACiiigAooooAKKKKACiiigAooooAKKKKACiiigAooooAKKKKACiiigAooooAKKKKACiiigAooooAKKKKACiiigAooooAK8R0j/AIKMfse6ld69Z6n8Urzw83hzw5c%2BINQk8a%2BEdV0GObSbd0jnv7WTUrWBb63R5IlaW2MqAyxjOXXPtN7FczWcsNndCCZ4mWKYx7/LYjhtp64POO9fmJq//BHL9uX4v6t4X1z43fHHQ31vw14P1Cz1DxRqHxW8TeJx4h1v7ZpV9a6idLvoobLSbaS50xfPsLIBRHJtWWQKgUA%2B2X/b/wD2YbX4aN8WNY8QeKtK0ttcg0axs9c%2BGWv2GqanfzIZIYLLTbixS9v2kQM6/Z4ZAyo7AkIxHReA/wBqz4H/ABH1%2By8J%2BHPEOqQ6vf8AhSfxJDpGteFdS0y7TTYbv7JLLLDeW8UkDrP8hhkVZe%2BzbzXk3xO%2BDn7bvxib4e/G3XPBvwq0P4h/Cjx1NrHh/wAM2vjjUr/Rdcs7jSbvTLmO4vn0qGaxmKXskkbpa3AjMQU%2BYJGxV%2BJPwG/bg1/4y%2BHf2mvA%2BjfCu08WX3ww1XwX4x0LUvFepSWGkLcX8N1a39lcJpwk1AxCN1kt5YrQSlxiWLHIB3Gk/wDBRv8AZA8R694F8LeFfiNqus6n8SfBuleLfBunaJ4H1m9nvND1F9lrqMiQWjNa2%2B7HmSTiNbcMpm8oMCdj4a/tufs3fFf4jXPwn8M%2BL9Ws9ft9LudThsvE/gzVtEW/sbeRI57uyl1G1gjv4I3liDy2zSIvmISQGUnyj9hT9hL4sfsw6/8ADjWfHniDw1dnwd%2Byl4R%2BGN%2B%2BkXM8rNq2lvM1zNF5kEe61bemxmKu235o0wK8a%2BGn/BKv9sbxP8UfC/ib9qb4w2eqRaf4A8V%2BF/GniaD4v%2BJNavPEUur2KW39p2umX0Men6EcqWNpaKUXKgTOI1WgD6l8J/8ABRf9kfxrosfirQfHeuf2Hcarpen6f4lvfh/rdrpWoy6lex2VlJaX09mlteQS3M0UYuIJHhBlQs4VgT6X4W%2BLvw88a/EDxT8LvC/iH7XrnguSzj8T2iWkwWxkuoPtEEZlZBG7tCVkKIzMiyRlgokTd8w%2BOPAnxF8K/wDBPbxp8CP%2BChnif4VeCPAWg/DSLQLb4meHfFt2GadI0trXUntLqzgTTZlmFvJDBHcXTGcoiOTtDdr/AMEr/h98WPDf7ImlfFX9oqwS3%2BJ3xYvpfHXxEhW3aL7Pf36xmG02N8yfZbGOys9pyQLXBoA%2BjaKKKACiiigAooooAKKKKACiiigAooooAKKKKACiiigAooooAKKKKACiiigAooooAKKKKACiiigAooooAKKKKACiiigAooooAKKx/iB8RPh/8JvB1/8AET4p%2BOtG8M%2BH9LiEmp674g1OKys7RCwUNLNMypGCzKMsQMkDvVvw14l8OeM/Dmn%2BMPB%2Bv2WraRq1lFeaXqmm3ST215bSoHimilQlZI3RlZXUkMCCCQaALteL/Hrx/wDtF/8ADRfgX4EfAXxn4K8Ppr/grxLr2r6n4v8ABd3rRJ0670O3hhhjt9SsfLDf2pKzMzPny0AC8k%2BoeCPiJ8P/AImaXca58OPHOj%2BILK01K50%2B6vNE1OK7ihvLeVobi3d4mYLLFIrRuhO5GUqwBBFeRfEXWksv%2BClXwh0WRRi9%2BCfxDZGzzuj1bwacfkzH8KTaW5cISqO0ezf3asv/APCD/wDBQv8A6Og%2BDP8A4YfVv/moo/4Qf/goX/0dB8Gf/DD6t/8ANRXs1FMg8Z/4Qf8A4KF/9HQfBn/ww%2Brf/NRR/wAIP/wUL/6Og%2BDP/hh9W/8Amor2aigDxn/hB/8AgoX/ANHQfBn/AMMPq3/zUUf8IP8A8FC/%2BjoPgz/4YfVv/mor2aigDxn/AIQf/goX/wBHQfBn/wAMPq3/AM1FH/CD/wDBQv8A6Og%2BDP8A4YfVv/mor2aigDxn/hB/%2BChf/R0HwZ/8MPq3/wA1FH/CD/8ABQv/AKOg%2BDP/AIYfVv8A5qK9mooA8Z/4Qf8A4KF/9HQfBn/ww%2Brf/NRR/wAIP/wUL/6Og%2BDP/hh9W/8Amor2aigDxn/hB/8AgoX/ANHQfBn/AMMPq3/zUUf8IP8A8FC/%2BjoPgz/4YfVv/mor2aigDxn/AIQf/goX/wBHQfBn/wAMPq3/AM1FH/CD/wDBQv8A6Og%2BDP8A4YfVv/mor1HxmN%2BhiBidk19aRSgHG5HuY1ZfoVJB9jXmOv8A7UH/AAT98Ka7e%2BFvFP7RHwc03U9Nu5LXUdO1DxdpUM9rPGxSSKSN5QyOrAqysAQQQRkVlVr0KCTqTUb92l%2BbR3YHK8zzScoYLD1KrirtU4TqNLa7UITaV9LtJX0vfQZ/wg//AAUL/wCjoPgz/wCGH1b/AOaij/hB/wDgoX/0dB8Gf/DD6t/81FV/%2BGv/APgnB/0dF8Ef/C20f/47VvQP2oP%2BCfvivXbLwt4W/aI%2BDmpanqV3Ha6dp2n%2BLdKmnup5GCRxRxpKWd2YhVVQSSQAMmsljsC3ZVYf%2BBx/%2BSPQnwrxTTg5zy/EJJNtuhXSSWrbboJJJJtttJJNtpJsZ/wg/wDwUL/6Og%2BDP/hh9W/%2Baij/AIQf/goX/wBHQfBn/wAMPq3/AM1FaP7VfxL%2BFX7KH7N/jX9pLxT8Ll1bT/BXh641W603SNEE1xcrEudiLHGxGTjLkbUXLuVVWYc/pP7Wf7H%2BueN5fhrpfhrX5fENt4cXXtQ0X/hTWurdafYPHdvFLdRtp4a1aX7DcrFHMEkmeMRxq7uit1Hgl/8A4Qf/AIKF/wDR0HwZ/wDDD6t/81FH/CD/APBQv/o6D4M/%2BGH1b/5qKpaZ%2B05%2BzB4mk8O/8Irplgh1nx1N4VvbDxL4S1HR9Rsb6PRrrVzC1lc2AmSU2tusyrcLbxvDJ5iysxijmb8FP2v/ANhf9oLRpvEfw28TaX/Z0Xh/T9dS/wDEXhG70WC50u%2BZltb2CTUbaBbm3kdSgliLqHwhIYgUAX/%2BEH/4KF/9HQfBn/ww%2Brf/ADUUf8IP/wAFC/8Ao6D4M/8Ahh9W/wDmopv7RvxEb4V6/wCD/hp8IPgB4a8XeM/G17eJpWl61qq6RYwWtnatcXNzPdJZ3ToB%2B5iVVhctJcR52IHdZvAvxCsPjf8AsteH/wBoT4CfAnQdS1TxRoVjqOleGfE96mmRwtOY/NhubqK2uTEYA0m4xxS7miIUHcDQBH/wg/8AwUL/AOjoPgz/AOGH1b/5qKP%2BEH/4KF/9HQfBn/ww%2Brf/ADUV4j46/wCCh%2Bg%2BB/BfhW/1z4DfCnQta1r4qa54E1qfxt8To9J8O6fe6ZBdSySw6qdLla5SRrbyUVraF/NZkYK0ZB7n4jftY%2BCPCH7Q/hv9mTRvAHwlHiS/0TSdT1weK/iJDpERW/nnhhtdIBsJZNXuj9kun8vZbjYISzoZlAAO1/4Qf/goX/0dB8Gf/DD6t/8ANRR/wg//AAUL/wCjoPgz/wCGH1b/AOaiuYuP2oPB%2Bpftnz/sieAv2e9M1mO28Da1q0vixruGCBtZ06TSvM0dIzA24iLV7SSS43hYy4j2uwkEXN6n%2B1/q/gqXxh8O/iR%2ByZ4Qh%2BIfh7UvClho%2BheHPF39oaVqdx4hvJbSyjk1CXTYJLVonglluFNq7R2/lyIJjIqEA9L/AOEH/wCChf8A0dB8Gf8Aww%2Brf/NRR/wg/wDwUL/6Og%2BDP/hh9W/%2BaivHPFv/AAUL%2BH/hDQ9H8MeIvg78MvDnxCu/EmvaRrekeOviFBo/h/SzpEttFc3H9rvYO80chv8ATTAotBLJ9uTekWyTZ6jrHxW1jw5%2B0z8Pfgfrv7N3hFdB8e%2BHr66j8VWfiNZprW/tIFnltltPsKrLBtdQtwZ0JJ/1WOaANL/hB/8AgoX/ANHQfBn/AMMPq3/zUUf8IP8A8FC/%2BjoPgz/4YfVv/morCs/i743039oiL9nzx9%2Byx4IsLrxD4Z13WvAl5pXjD7a13DptxaQkajE2mxHTxL9utyrxNdqpLqx3BA/G/Df9suw%2BJfw6%2BJHifR/hV8D/ALT8NNVtrbWPEUfxcEng1o5IvNnDa6NIzFcWw4mga1xGZIsuN52gHp//AAg//BQv/o6D4M/%2BGH1b/wCaij/hB/8AgoX/ANHQfBn/AMMPq3/zUV4XJ/wUe8LapD8GIfD/AMEPhJpU/wAX9E8T39le/EP4oJommu2j6ppunImm3S6VcHVVvjqIurRxHCZbaNZNo8zavsHxV%2BK/iH4P/G7wv4R8Vfs0eD5PA/jDxfa%2BGtE8SWXiYPrEl7NZS3IkOlmwEf2dGglR2W7aRUjaXytinABqf8IP/wAFC/8Ao6D4M/8Ahh9W/wDmoo/4Qf8A4KF/9HQfBn/ww%2Brf/NRXh%2Bv/APBRrQ/C3wl8W/G/Xf2R9Dj8PR/B7xh8RPhfNF4jRpfE2neHxGZYrxDYgaXJcJcWssOxrseVI5fa8ZjPV%2BOf2qdd8M/sKeMf2y/BXwH%2BC3jyTwfp2p6rNp3gT4tjUNIudNsLV7i4ddUGjg/aB5UiCAW7DdszIMttAPRf%2BEH/AOChf/R0HwZ/8MPq3/zUVQ8D%2BOP2rPB37Vnhz4I/G74j/D3xNo3ib4e%2BIdchm8K/Dy%2B0W6tLrTb7RLdFZ7jV75JY3TVJSVCIwaJCGxkH0vXvDnhaHwTea9pvhmxtLmPTHuLea3tUR4nEZZSrKAQQcVwfjj/lIX8L/wDsjPjz/wBO3hCgD2aiiigAooooAKKKKACvnH4TeKv27/jro%2BveO/C/xv8AhJoGl2/xC8VaHpelX/wf1S/uIrXS9ev9MhaW4TxFAssjx2auzLFGu5yAoAFfR1eM/sH/APJENc/7LN8R/wD1NdboAP8AhB/%2BChf/AEdB8Gf/AAw%2Brf8AzUUf8IP/AMFC/wDo6D4M/wDhh9W/%2BaivZqKAPGf%2BEH/4KF/9HQfBn/ww%2Brf/ADUUf8IP/wAFC/8Ao6D4M/8Ahh9W/wDmor2aigDxn/hB/wDgoX/0dB8Gf/DD6t/81FH/AAg//BQv/o6D4M/%2BGH1b/wCaivZqKAPGf%2BEH/wCChf8A0dB8Gf8Aww%2Brf/NRR/wg/wDwUL/6Og%2BDP/hh9W/%2BaivZqKAPGf8AhB/%2BChf/AEdB8Gf/AAw%2Brf8AzUUf8IP/AMFC/wDo6D4M/wDhh9W/%2BaivZqKAPGf%2BEH/4KF/9HQfBn/ww%2Brf/ADUUf8IP/wAFC/8Ao6D4M/8Ahh9W/wDmor2aigDxn/hB/wDgoX/0dB8Gf/DD6t/81FH/AAg//BQv/o6D4M/%2BGH1b/wCaivZqKAPGf%2BEH/wCChf8A0dB8Gf8Aww%2Brf/NRR/wg/wDwUL/6Og%2BDP/hh9W/%2BaivZqKAPGf8AhB/%2BChf/AEdB8Gf/AAw%2Brf8AzUUf8IP/AMFC/wDo6D4M/wDhh9W/%2BaivZqKAPGf%2BEH/4KF/9HQfBn/ww%2Brf/ADUUf8IP/wAFC/8Ao6D4M/8Ahh9W/wDmor2aigDxn/hB/wDgoX/0dB8Gf/DD6t/81FH/AAg//BQv/o6D4M/%2BGH1b/wCaivZqKAPGf%2BEH/wCChf8A0dB8Gf8Aww%2Brf/NRR/wg/wDwUL/6Og%2BDP/hh9W/%2BaivZqKAPGf8AhB/%2BChf/AEdB8Gf/AAw%2Brf8AzUUf8IP/AMFC/wDo6D4M/wDhh9W/%2BaivZqKAPGf%2BEH/4KF/9HQfBn/ww%2Brf/ADUUf8IP/wAFC/8Ao6D4M/8Ahh9W/wDmor2aigDxn/hB/wDgoX/0dB8Gf/DD6t/81FH/AAg//BQv/o6D4M/%2BGH1b/wCaivZqZcXFvaQtcXU6RxoMvJIwAUe5PSgDxz/hB/8AgoX/ANHQfBn/AMMPq3/zUUf8IP8A8FC/%2BjoPgz/4YfVv/morqfGv7VH7Mfw3jaT4g/tFeBtEC9Rqviyztz9AHkBJ9hzXkfiv/gsb/wAE0vB0rw6p%2B1dotw6HGNJ0%2B9vwT7G2gcH8DXFWzHLsP/FrQj6yiv1PPxGbZVhP42IhH1nFf%2B3X/A7P/hB/%2BChf/R0HwZ/8MPq3/wA1FH/CD/8ABQv/AKOg%2BDP/AIYfVv8A5qK8puf%2BC1n7Jl%2BD/wAK18A/Ffxsf4F8K/De7kL/AE8/yqzNR/4LEy2Cfa5f%2BCfvxyt7ZuYpNT0OztXI9WR7jKn2zXK8%2BydbVk/RSf4qLX4mVPO8sru1Gbqf4IVJ/jClJfie0/8ACD/8FC/%2BjoPgz/4YfVv/AJqKP%2BEH/wCChf8A0dB8Gf8Aww%2Brf/NRXzX4g/4L7/CLwl/yNP7LvxA032v7/SYf/Q7sVzWp/wDBx58Edh/4Rv8AZ11%2B5YDpqHi3SbUZ%2BoneuafFPD8NJYhfdL/5E9nD4XNMWk8PgcTO%2B3LhMXK/pbC2/E%2Buf%2BEH/wCChf8A0dB8Gf8Aww%2Brf/NRVv8AZW%2BI3xp8Yax8UPAnx01/wvq2qeAfiFFodnqvhPw1c6Tb3VrLoOj6mrPb3F7eMsiyajKhYS7SsaHapzn4K17/AIOStTeVrbQP2V9BsE/hvdX%2BJyXC/jFaWjt%2BRr6Q/wCCPH7RWqftY%2BB/jL%2B0DrNppMFz4g%2BMwLxaG9w1qoh8L%2BH7dQhuY45TxCM7lHzbsZXBO%2BX8QZTmuIdHC1OaSV9mtLpdbdzvxWQ8TZdhlicdlmKw9JuyqVsNXowcnqoqVWnBOTSbUUrtJvZH2BRRRXsnmBRRRQAUUUUAFFFFABRRRQAUUUUAFFFFABRRRQAUUUUAFFFFAHK/G7xF4e8JfCfXfEXinQtU1OytbItJZaL4au9YupHLAR%2BVZ2cM08zBypxHGxXG7gKSPmn9m/Ufjj4z/wCCUfgD4I/ADQNc8K/E%2Bw%2BDvh/RZYviJ4Z1vwwNNmgt7Sz1BRc3Omu0FzGi3PkOIZlMixSbJIsk/YFFAHy//wAEpfhn8Vvg98FvGfw7%2BJXwL0b4f2th8Vdf/wCEZ0TRNau72D%2BzzdHy2ie6sbRmgwMRShWEqAP8pO0c78Wrj4p6B/wWP%2BAieN/Gvh/UNF1r4b/EiDwxp2leGp7K6sY1k8NSyJdXEl7Ml4zGNCrRw24XY2VfcNv2FXxl%2B2Zq50j/AILGfsXhm2x3nh34n20h/wB6w0dlH/fSrXLjJ%2Bzoc3nH8ZRX6nu8OYb63mnsu9Os/wDwGhWl/wC2n2bRRRXUeEFFFFABRRRQAUUUUAFFFFABRRRQAUUUUAZfjD/kEw/9hWx/9K4q4XX/ANib9jLxXrt74p8U/sj/AAx1LU9Su5LrUdR1DwDp0091PIxeSWSR4SzuzEszMSSSSTk13XjD/kEw/wDYVsf/AErir528f/8ABZT/AIJufC/x3rfw08dftHfYdb8O6vc6ZrFl/wAIhrEv2e6t5Wilj3x2jI%2B10YblYqcZBI5rhx1bLaMIvGSgk3pz8tr%2BXMnrbsVHiSpw3%2B9hjXhufS6qypc1tbXjUp3tvZt23t1PRP8Ahgf9hX/oyz4S/wDhudM/%2BMVb0D9ib9jLwprtl4p8Lfsj/DHTdT027jutO1HT/AOnQz2s8bB45Y5EhDI6sAyspBBAIORXjP8Aw/N/4JZf9HRf%2BWTrn/yFWv4B/wCCyn/BNz4oeO9F%2BGngX9o77drfiLV7bTNHsv8AhENYi%2B0XVxKsUUe%2BS0VE3O6jczBRnJIHNefDG8MOaUZ0b3VrezvfpbTe9rFf8RNxNf8AdPPJy5tLfW6rvfS1vrDve9rWd72s72fsv7TXwTsv2k/2dPHf7Peoa/LpMPjfwjqGhvqsEAlez%2B1W7wiYISA5QuG2kgNtxkZzXl/iL9ib4heP9B%2BLsvj34%2B2sXiT4t/DvTfDN9rXhPwrNpsOmyWY1ELcxRSX08jI4vwGiMwOImxIPMGz1z46/GHw5%2Bz78HvEfxv8AGWmajdaN4V0qXU9ZTSoUknis4hunmCu6BljjDysM52xttDNhT5f8Z/8Agoh8Hfgtpfi7XNU8N6nqFj4K8W2fhvWNRHiDQdKtHv7jTYtRCQ3Gr6lZwybIJ4AwD798wVFfZIU94zPOvgj/AMEpovhF4ih8TQ/EnwhYbfi4PHL6D4C%2BF8egaRAw8I3nhw2dtapeSmEN9qF20rPIzOjKR84dPQvgb%2BxR4h%2BAUfgS78I/Fyyub/wN8DdK%2BHVvLqHhd2hu/sckDG%2BaNLtWXesLAQhzsLg%2BY23a3KWv/BR3SfFPj6O/8E3FpceAtc8GfCTXfCOqxaFJPeXX/CYeINW00rMj3cKxxiKzsyrAF4GkmdkucLBVjwb/AMFGj8TP2ivB/gjwh8H/ABNZeAfEfgrxZr9p4s1TQlnbxDDpNxp0Mc%2Blx2VzNOY3%2B1St5U9uk8waBoUIJyAen/tG/ALxx8VPEHg/4mfB/wCJ%2BneEfGfgm9vH0rVNa8NPq9jPa3lq1vc209ql1au4P7mVWWZCslvHnehdG5y5/ZS%2BL3gr9j5P2T/2cf2jofBs2neB9O0Hw/42vfCbahqNncRuRe6hIEvIEkknh4QIIvImZpd0o2xLu/tSfGj4gfD3RvAvhb4OJpEPij4k%2BN7fw7oWoeJ9LnuLLTc2V5qE9zPaxzW8s221sLgLEJYiZGQFlGai/Z5%2BMPxZ%2BPf7Nd94niTw7pnjzTtc8ReGbmd7GeXSf7V0nVrzSnulgEwmNtJLZmdYfO3hJAhk3AvQBieEv2a/2ifht%2BzzoPwM%2BF/xY%2BE%2BinRoJ7F5P%2BFOX9xp72DoAqJay68ZPP3F3knluJhMZGLx7iWPnetf8En9ItPCOm/Db4cfGCDTdBufhR4V%2BHnjaXWvCi6hqmqaToE00lnLZ3a3EK2F232mcPK0M6A%2BS0ccbRAmh4j/AGz/ANrzSvhv4pi8OW/hjxLqvhT42Wfg278eeEPhJrus6dcWBsYZ7%2B6j0Wxv5bx5bO4kks5fLupEEkD5KsskUdn4sftz/FLws3ws8S%2BF/jL4Mj%2BHniLwPq%2Br%2BNPi4fgh4g1XR7e8tLvToY4ZFtNRQaFGyT3zSPfzOIjZsrspRxQB19t/wTQ%2BGfgn9pnSf2oPgp488UeHtV0nRvF6RaNqXjHXtU0uTVteurO7kvjZzamIEhWeCeSSzjjWOeS4jkJR7aFlxvhz/wAE9fjH4d%2BAGpfC34gftJeGdb8WSeM9K8Zad8RdP%2BG1zZ3t14js7yO6e%2B1SOXVrgX6TeRBb%2BRC1osVspghMaiHyfRLz4v8Axu0L9vvw/wDAfVb/AMJ3PgDxd8LvEXiHSI7TRrlNXs7zSr7w9bHzbo3TQSwyjWZiEW3Rk8lD5jbiK8%2B/ZP8A2of2kfjwnizwZ458b%2BEPD3xAitNQn8O%2BCdb%2BDWv6LJYW0WoS20N%2B8t9qGNatdggLSWYiTfMgMib1FADpP%2BCdPjCwl0X4oeHvjX4af4p2mp%2BKbrWfFev/AA5a/wBLvU182322GHTft8b26oljYRQk3MpWO2Ky%2Bd5rk6Vj%2Bw58XfA3jP4Cj4R/tBeHrLwd8DfCUHh%2B30bxN4BudT1TWbf7LFZXEj38Wq28cUj20EYQ/ZnCS7nYSqRGtHwT%2B2Z8Y5vh/wCNfDuqx%2BE/Ffjiw%2BKb%2BAfhxrHhvSbmw0jxTqP2C3uJp/s8t1cSRQ2Er38d5suJcLpN1tYSDyV84j/4KS/tM%2BJP2YPDn7QPhPw54Ghn8PfsqaD8afinp17pN5IuqR39rPcNpellbxPsTFdP1HbPP9qCk26lGy70AezfCT9lT9pT4d/Gf4j/ABp8T/tH%2BC/EWq%2BOEuYtK1C5%2BFt3FfaHaoX/ALM09Jf7ZeJ7K13s7wpDC1xLJLK0iPISLPhD9mn9pvwhr/jP4u2n7RvgmT4heNJNIgvb7/hVl0mhQ2Onx3KRounDWPPa4c3Tl7lrwkiOFNmyILWXc/tmeO/EX7dXhf4BfDnQNGn%2BH11BrGn694lu4ZmurnXLS0iumt7MrIsaxW6SxpM7LJummaJTG9rKG89vf28v2kvBGv8AxH%2BFGvjwr4i8ReHtT8H6L4d11/htrHha0TVde8QNogMljqF7NPqVjA5juRfWsqwXCiSGN96lgAdprn7B3xduP2XLz9lLw7%2B0J4Xh0TxVbeJI/iBf6v8ADFr24u21y/uby8/sxBqUcOnRo15MkMU0d4qKkO7zCjeZuW37I/xttP2wLH9oeb4%2B%2BGdV8LaFotto3hLwf4g8AXdze6BZ%2BSiXz21%2BurRxfbLt1y91JaOyxJHCo2iQy%2BPfFX/god%2B0r8NNOf4e6rB4ZTxR4e%2BIGt%2BGvFXinQvhdrfiK2uTaaPaavaSWug6dem/RZra/gEspnmitXicOxEsZHW%2BLv20v2gvD2hfAj4oIvhRtN%2BLA8Jw6l4SsvB2pahBbSapNax3kqeKre7/ALLt0hW6MlvHNCWvWgEUDO9wm0A3vhN%2BwX8RPhDrdnqOjfH3R7208EeEtb8O/B/TtR8CO0ehWepXltcuNRK36nVTEtla28Zj%2Bx4hWQNueQyCr43/AGCfjH40/Z2%2BOHwyf9onwta%2BMfj4biHxd4mh%2BGk40uztZtHi0hltNNXVRIs32aFW8%2BW7lJk5KlAkS3dU/ae/aV%2BH/wAQf2jvDXiHwl4e8Zf8Kx%2BGth4y%2BHWgeEtGu7S/1IXQ13ytMuHkuJxcTsdJhUSRRQjdcMPLOATxPwq/bv8AjD8Z/Anxh8KfCf41fCHxf4w%2BHXg/RfE2neOfD/hW/fw5NbX4vy1nJaf2k0ss8LaXdIzJdoMyxhkjeOSOgD6b0/SfHmhfA%2BbR/id4n0jWtdttCuI9R1TQdDl020uGCPho7aW5uXiG3aCGmkyQTkA4HE%2BOP%2BUhfwv/AOyM%2BPP/AE7eEK6P4b%2BPtY%2BK37KOg/FHxFbW0OoeJPh5a6rfQ2SMsMc1xYrM6xhmZggZyACxOMZJ61znjj/lIX8L/wDsjPjz/wBO3hCgD2aiiigAoorjvjx8bPDX7P3w6l%2BInibSNT1TdqVjpmmaLokMcl7qmoXt1FaWlpAsskcfmSTzRrukdI0BLu6IrMADsaK8dh/bY%2BGS/s76r%2B0Lq3hPxLp66Jr7eH9V8H3VnbtrEGt/2gmnR6ZsineBppbqWGON1mMDieOQS%2BW2%2BoNM/bHvPEfhLUNW8F/ss/ErW/EOg%2BJpNC8WeBLBtDXVNBu1tIb0faZJtUjsmV7a6tJkMNzKXW6jwM7goB7TXjP7B/8AyRDXP%2ByzfEf/ANTXW69C%2BDnxY8GfHj4S%2BGfjZ8Or2a40DxboNpq%2BjTXFu0Uj21xEssZeNvmRtrDKnkHIPSvPf2D/APkiGuf9lm%2BI/wD6mut0AezUUUUAFFFFABRRRQAUUUUAFFVda1zRPDemTa34i1i1sLK3QtPd3twsUUa%2BrOxAUe5NfMvxA/4K2/s0WPimT4bfs8aR4m%2BNXiuM4fRvhbo7ahFDk4Dy3fECpwcsrPjHIFcuJx2DwaTrzUb7Lq/RK7fyTOLGZjgMvSeIqKN9k3q/SKvJ/KLPqSivkn/hsf8A4KW%2BLzt%2BHf8AwSoubCBvu3/jD4q6dabf963VDJ%2BRpf8AhLP%2BC2/ij5tG%2BEv7O/hdT/D4h13Vr11Hp/ooAJ/SuT%2B16Evgp1JelOf/ALdynD/b2Gl/Do1p%2BlGf/t3IfWtFfJf/AAj/APwXBvPluPiD%2BzTZg9WtNK1yQr9PMPP402T4Bf8ABX/xShttd/b4%2BH/hlJflkl8NfDBLuSMHqU%2B1OAT6Zo/tOq/hw1V/9uxX5zD%2B2az%2BDB1n6xjH/wBKqH1tXO%2BKfi/8JfA4dvGvxR8O6OI/vnVNbgt9v18xxivj74kf8E9f2TPDdoPEH/BRb9u7xl40Mi72tviB8TF0fTM%2BsFrDJFsyf4Vc15Smqf8ABvF8PdW/4R34XfA%2B3%2BIWrQ9NL8L%2BHdX1929CHnLRPn/fNcWIzjFUHaoqVPynV97/AMBhF/hc%2BkybhXxO4mp%2B0ynJ5zh/N%2B8lFeblCkqS8/32nVn2P4v/AOCmX/BPzwOzJrv7YPgF2T7yab4hhvWB9CLYuc%2B1cFf/APBbX/gm7FdNYaD8cr7XLhfvQ6J4M1Wcj/gX2YKfwNea%2BEPjX4Ptwq/so/8ABCDxQG/5d7jxH4I0jwqkh7N5squcH%2B8frXe6f4w/4LJeMrZbTwP%2Bzb8DvhfZnpB4q8TXWqSwj/ZGnqsZYe4xXN/auY1f4ck/8FGtL8Zumj3f%2BIYeIdPXMcXgMGv%2BnuIpOS/7djXrT/8AJCf/AIfLfsw3vHhf4XfF/XGP3F0n4Y3rl/pvC0H/AIKqa1rn7r4ff8E3f2ldUkb/AFU198OlsbZ/%2B2sk5x%2BVH/DMH/BVjx0d/jz/AIKT6F4Wib/W6f4H%2BFdrKD7LPdP5i/XFH/Drbxd4r%2Bb4w/8ABR79oLXg3%2Bts9K8Yx6Vay%2BzRQxHj2BFHteJavwqS9Y0Y/nOb/AX%2BouX0P9%2B4sw67rD4PEVn8nJUo/O7RS179uf8A4KG3WnPqfh3/AIJlReHNPHXXPiF8XNM0%2BKH03w7d/wCTdq8b8cf8FJv2vLG5a38V/tifsf8AgZB9600zWdR1%2B/hPcOLcvFkenBr33Qv%2BCLv/AAT3sdRTXPF3wm1TxdqKf8v/AIu8Xajeu3ruQzCNvxWvZPAn7IP7Kfwxt1tvh7%2BzZ4F0cLj57DwraRyNjuziPcx9ySaP7P4ir/xK/L/2%2B/yp04L/AMm%2BYf2B4Z4b/eMzzLFvtThhcJD737epb5Jn5xX3/BRvx9qlwYX/AOC3mh2113sfBv7M0%2BoqPo88Iz%2BdQ/8ADZH7UOr/APIpf8FKfjb4olP3E8N/se2Xz/QPIgr9YbDTNN0q3FppenwW0Q6RW8QRR%2BAGKno/1fx8vixT%2BXtP1rfoH1bwmpfDlmNqf9fM0qK/ypYeFvkfkuPjh/wVy1z5vAvxG/abu0P3H1r9mDQdNDe/7y6bj3oCf8HA3jp107T734mXFq5%2Bdry38L%2BHHUevmjzG/ADNfrRRR/qxUl8eMq/KVv8A26QfWvD%2Bl/ByCL/6%2BY/Mqn3pV6N/wPybb/gnd/wXE8cTf2qn7WfinwxO4%2BaLWPjxfSKv/ALG02flXQaL/wAEmv8AgsXrUa2fj3/gqfqlnB/H/ZfjfXbkn1HzeRu/E1%2BolFXHhHLU7yqVX/3FmvwTRhWzTIZw5KWR4GC/69VpP5yqY6TfzR%2BcOif8EGPixrEv2j4w/wDBTj4k61v5lhsUuIj9PMnvJs/Ur%2BFdMP8Ag3b/AGM9SRH8afFz4s69OOWl1HxRakE%2BwFpkfmfrX3xRXRDhbIIrWgpf4nKX5yZ4tb6jWmpfU8PG3SOHopfdKFS/zbPhjSf%2BDeP/AIJ2aZKJLnTPGl9g5C3XigqP/IUaGutsv%2BCGH/BNGCIRah8DtSvwBz9r8b6tz/3xcqK%2BuqK3hw7kMNsLD/wFP87n0GW8YcTZLb%2BzcVLD2/58xp0X99KjTl/5MfK8H/BE7/gmBbqFj/ZYtCB/f8T6sx/W7NX9N/4I5f8ABNHSn32v7J%2Bisf8Ap51K%2BmH5STtX0zRWyyTJo7Yan/4BH/I9Wfif4lVVaedYt/8AczW/%2BWHiPh3/AIJr/sAeF2D6X%2Bx18O3KnIN/4Xt7oj/v%2Br12%2Bk/szfs36AqpoX7P3giyCD5RaeFLOMD6bYxXb0V008DgaXwUor0jFf8Atp4eL4p4ox7vicfXqf4q1aX51WvwMvS/BHgvRMf2L4Q0uzx0%2By6fHHj/AL5UV5b%2By9x8bv2jQP8Aos1j/wCoV4Xr2avGf2X/APkt/wC0d/2Wax/9QrwvXSoxirJWPGqVataXNUk5Pzbf5tns1FFFMzCiiigAooooAKKKKACiiigAooooAKKKKACiiigAooooAKKKKACiiigAr4N/4KU6p/Yf/BVv9iDVN2N2o%2BM7XP8A13XRIsf%2BPV95V%2Bdn/BYm%2Bk0f/god%2BxFricJb%2BPdSWdv7scmp%2BHI2P/j1eZnEuTLpy7OL/wDJ6Z9v4cUFiuM8NR/nVeP34XF/5H6J0UUV6Z8QFFFFABRRRQAUUUUAFFFFABRRRQAUUUUAZXjD/kEw/wDYUsf/AErirVqG/sLTU7R7G%2BgEkUgwykkd8g5HIIOCCOQRVD/hD9J/5%2B9U/wDB5d//AB2gDVorL/4Q/Sf%2BfvVf/B5d/wDx2j/hD9J/5%2B9V/wDB5d//AB2gCzr2haP4o0O98M%2BItNivNP1G0ktb6zuE3RzwyKUeNh3VlJBHoa%2BdfBP/AATB%2BFHw0%2BEfgP4YfDz41fEfStQ%2BH2t6nqml%2BOV1PT7nW7yW/SaK6F1Jc2UkEm6KbyldYUljSGIRum0k/QP/AAh%2Bk/8AP3qv/g8u/wD47R/wh%2Bk/8/eq/wDg8u//AI7QB4N4G/4JifAP4f8Ahrw94V0Txb4wktvDXhr4eaHYNd6lbPI9t4N1W71TS2kb7ON0ks95Ktw3AdFQRiFgXa18Nv8Agnd4F%2BFPxE0v4geEvjr8RFXwv4b13QvAehXF5pslh4Ws9VmtppktENjvlMT2kHkm6e42Kmw7k%2BWvb/8AhD9J/wCfvVf/AAeXf/x2j/hD9J/5%2B9V/8Hl3/wDHaAOY%2BOfwD0T47%2BDdL8Oav4013RNU0DWrXWPD3izQHtV1HTNQgDKtzEJ4Jbdi0ck0TpJC8bxzSKUweMHQ/wBkzTvB/wACrj4CeAfjd460CyvNF1m2vNe0q7sRqs2papctd3Wt/aJLRtmoG4luZVZFWEPdSHyTti8v0X/hD9J/5%2B9V/wDB5d//AB2j/hD9J/5%2B9V/8Hl3/APHaAPJvhj%2Bxprfwc%2BA%2BnfAL4bftc/EjSrDRp4f7F1a10nwut3Y2scTJ9jVBov2aSNy3mO8kLzNJ83m8kHP17/gn/wCFNW%2BCFv8As36R8f8A4jaL4LuNN1Gz8W6Ppl3pbN4qGoXE1xqEt7cz2ElxFLcSXFyXezktiPPbZswm32n/AIQ/Sf8An71X/wAHl3/8do/4Q/Sf%2BfvVf/B5d/8Ax2gDzPxD%2ByL/AG5%2B1H4X/ahsv2h/HelS%2BEfDt5oOk%2BC9OttE/sY6deSWEt3A/m6a94RLJplkxYXIZPJxG0au6tk6r%2BwyfEmoeIPFHi39q/4ral4k1XwVqXhXQfFf2vR7S/8ACmnX8tvLdjTTaabDGszvaWh8%2BeOeVfssRVgQSfYv%2BEP0n/n71X/weXf/AMdo/wCEP0n/AJ%2B9V/8AB5d//HaAPIfAn/BPf9nrRvgno/7Pvxm8Paf8XfDHhqVG8K6d8T/BXh%2B6i0VEhEKx28VpptvCvy7syMjSkyPlyDgcfp3/AAST/Zr8N/Bnwj8AfAPibxX4Z8LeHPhxD4E1/TdAk06BfGegq/mSWuqg2ZDNNK91JLNai2md7%2B7O8CZhX0d/wh%2Bk/wDP3qv/AIPLv/47R/wh%2Bk/8/eq/%2BDy7/wDjtAHkfiD/AIJzfsca1%2B0Lof7U2nfAbwrovjrQ73Ur5fEOieFdOgur69vY9kl3czfZzLNOh3SJJvDB3ZjuyRVDUP8Agnx4O8XW3iG9%2BLnx4%2BIXjTxDrem6XZWPi3W59Kt77Ql07UBqVlJZJYWFtbJLFfJFciSWGVmeGMOXRQle1/8ACH6T/wA/eq/%2BDy7/APjtH/CH6T/z96r/AODy7/8AjtAHh6f8E7/CGnppniPwv%2B0J8SNG8c2Wp6xe3/xLsLjSW1fVn1QWy3iXMc2nvY7GWxsFVYrWPylsYBGU2nddf9gXwKvhnwZ8KbH4xeOrX4b%2BB7fQItJ%2BGMNzpx0ub%2BxngksWnneybUHxLa28jqLtUkaL51KvIr%2Bx/wDCH6T/AM/eq/8Ag8u//jtH/CH6T/z96r/4PLv/AOO0AeX%2BG/2Q9Q8NftG%2BNP2koP2oviLcX3jbQbfSLzw/cW%2BgjTrG2tnvHshb%2BXpa3Ia3a%2BuijSTyF/MHm%2BaFUCvD%2BxVbL8P/AB34du/2jviFdeKviLaW1l4h%2BJlymiNrQsrcMsVnDGNNGnxQqklyoUWec3c8mfNfzB6x/wAIfpP/AD96r/4PLv8A%2BO0f8IfpP/P3qv8A4PLv/wCO0AcZ8Nfg7/wz9%2BzLb/BiP4k%2BIPFlv4b8NSWFhrXihLFb17aOEpDG/wBhtraE%2BXGFjBEQYhAWLMSxwPHH/KQv4X/9kZ8ef%2BnbwhXqJ8GaG%2BFna%2BmTIJiuNWuZEb2ZWkKsPYgivLvHH/KQv4X/APZGfHn/AKdvCFAHs1FFFABXl/7W/wAG/Gfxn%2BGFhY/DW80yLxN4a8YaL4l0CPW55IrK6uNPv4bk2s8kUcjxJNGkkPmrHIYjIJAkmzY3qFFAHzb4O/Zg%2BK6/An4i%2BB/i58M/AXifU/iNrmoeJtV0UeM7%2B309NRnuE8ixS6TT/Pijgt7e0K6gkYm%2B0I0i28WFx5tbfsN/tgfDP4BeKfA/wKn8I2Gt/Fr4nnX/AIoQ3nxV1szWWkf2Zaae1jp%2BuT6fdXk93NFp9uJL6eFJE%2B0XDRCNhC0f23RQBxfhf4W6bcfAXSvg9rvhKDwlZweHrbTX0LwF4ovLaHSYoo1RbeyvrdbS4SONUCJIiwttUfKvSvP/APgnT4esPCX7N194W0q4vpbbTvi38Q7a3l1PVJ725dE8Z60oMtxcO807kDmSR2djksxJJr3SvGf2D/8AkiGuf9lm%2BI//AKmut0AezUUUUAFFFFABVfVtW0rQdMn1rXNTt7KztYmluru7mWOKFFGS7MxAVQOSScCvmb47/wDBSjQ7Dx9cfs6fsZfD24%2BMXxQTKXWm6HOF0nQjnb5mo33%2BriCnOYwd2VKMYyRXPaT/AME3viv%2B0tqVv43/AOCmXx/ufGypKs9t8LfB8kum%2BF7FwchXVSs16VPR5Cp6g7hXlVMz9rUdLBw9pJaN3tCL8563a6xipPvY8SpnDrVXRy%2Bn7aS0bvanF9pT1u11jBTl35TU8d/8FWvh54j8U3Pwr/Yh%2BFWv/HbxbA3lzjwkoh0SxY9Dc6pKPJRT2ZN6npuBrPHwM/4Ks/tIkTfG/wDag8NfBrQZuX8N/CfTDeam0f8Ack1C6P7mQf3ocqfSvqbwH8PPAXws8L23gn4aeC9L8P6PZrttdL0awjtoIh/spGAo9zjmvI/2if8Ago/%2ByN%2BzTqv/AAh/jL4lprHiqSTyrXwV4Rt21TVp5e0XkQZ8pj280oD61zYihy0/a5libR/li/Zw9NHzy/8AAtf5T08n4O4l4rxiw1JVcRUevsqEZRil1cnH3%2BVdZVKlOPdpHCaP/wAEZ/2N7zUYte%2BN1x46%2BK2qQtuXUfiT46vL593clI2ijb6MpFfRngzwF8KPgZ4L/sDwD4R0Hwl4fsIzI1tpllDZWsKgcuwQKo4HLH8TXzEPjV/wVN/anPlfAz9n/Rfgb4ZnPy%2BKfinJ9t1p4z/HFpkXywSD%2B5cZU8/NVnT/APgkp4I%2BI99F4h/bb/aJ%2BIHxrv0kEh07XdZfTtFjkHO6LT7RlWPntvKngEVlhpUabby3B7/bkvZp/OSlUl9x95hPDbhXhiTnnGPoYefWnh4rF4j0lKEvYwf%2BPFTa6o6H4of8Faf2MPAXiE%2BBPA/jLU/iZ4oJIi8MfCvR5NbupCDggPD%2B4yDwQZAfaudH7X3/AAUj%2BLh2fAX/AIJwt4aspP8AVa78W/GENkV9N9hADOPwY%2BlfSXwt%2BC3wh%2BCHh8eFfg78MdB8L6cAM2mhaVFao5H8TeWo3t/tNknPJrpq7fqmaV9a2I5fKnFL/wAmnzS/BHc%2BIeBcr93Lcn9u1/y8xlac2/P2OHdGkvR1Knm2fJP/AAp3/gsf8Sfm8afthfCv4bo/3o/AHgKTVmQegbUmHPv%2BVDf8Ey/jB41XZ8cf%2BCm3xv1uN/8Aj5tPDGq2%2Bg2847qyQRv8p7gHp3r62oo/sXBy/iuc/wDFUm/wUor8Bf8AETOJKH%2B408Nhl09jhMNBr0nOlXn982/O584fDP8A4JKf8E/PhlfHW4/2d9M8R6pI2%2B51XxtcTazNO/8AfYXbvGG/3UFe/eGPCPhPwTpaaH4M8MadpFlH9yz0yyjt4l%2BiIAB%2BVaNFdmHwWDwatQpxh6JL8Ur/AHtnzWc8T8ScRT580xtWu/8Ap5UnNL0TlyrytFWCiiiuo8MKKKKACiiigAooooAKKKKACiiigAooooAKKKKACiiigAooooAK8Z/Zf/5Lf%2B0d/wBlmsf/AFCvC9ezV4z%2By/8A8lv/AGjv%2ByzWP/qFeF6APZqKKKACiiigAooooAKKKKACiiigAooooAKKKKACiiigAooooAKKKKAOW%2BNvgix%2BI3wo13wbqWv69pcF3YkvfeGdfutLvo9hEg8q6tJI5oSSgUtG6sVLDIzXkP7NviPRvGX/AASw%2BGfjn9oH4taxp1lefA/w/qvjLxpL4suLC9VP7Ktp7q7l1FJFnidsOzziRZPmY7gTmvbviD8Ovh98WvB198O/ip4E0bxN4f1SNY9S0LxBpcV7Z3aBg4WWGZWSQBlVgGB5UHqK47Sf2Mv2PtA%2BH1z8JNC/ZR%2BGtl4UvLJrO88M2ngXT49PntmmEzQvbLCI2jMqrIUK4LqGxkZoA5X/AIJ/af8AEKP4Sa34j8U3Hi1PDeveL7nUfhppXj3Vru%2B1vTvDrwW6QJeTXrvcl5Z47q7SO4dpoYryKGTa0RRfjj/gs7408Sal%2B1T8GLzVvhH4h0Kz8EzahfWHiHVbnTntNYH/AAkPhJDJbLbXcs6Km4Z%2B0RQH5xtDfNj9FPhR8E/g18B/Ds3g/wCB3wk8MeDNJuL1ry40vwpoNvp1tLcMiI0zR26IrSFI41LkZIRRnAFfB/8AwXzhlj0XR/EFuhaXRvhX4gv4gOuU8W%2BBAT%2BTGvKz3/kTYh9oN/dZ/off%2BFLT8S8og/t4inD/AMGc9P8A9yH6L0U2CaK5gS4hcMkiBkYdwRkGnV6p8A007MKKKKACiiigAooooAKKKKACiiigAooooAKKKKACiiigAooooAKKKKACiiigAooooAKKKKACiiigAooooAKKKKACiiigArxnxx/ykL%2BF/wD2Rnx5/wCnbwhXs1eM%2BOP%2BUhfwv/7Iz48/9O3hCgD2aiiigAooooAKKKKACvGf2D/%2BSIa5/wBlm%2BI//qa63Xs1eM/sH/8AJENc/wCyzfEf/wBTXW6APZqKKRmVFLuwAAySTwBQBi/Ej4j%2BCPhD4C1b4nfEjxFb6ToWh2Ml3qmo3TYSGJBknjliegUAliQACSBXx3Hf/taf8FWI1fR5tc%2BC/wCz5djIvFIh8T%2BN7Zv7nUWNo69%2BS6n/AJaK5CRapLcf8FcP2iH8N2Ujt%2Bzb8L9cH9qTxkiL4ga9CciBT0ksIDgk/dkPTduVo/uGKK3s7dYIIkiiiQKiIoVUUDgAdAAK8Nc%2BdTfvNYdaaaOo1vqtfZrZWa53d35fi%2BbSnxDUl7zWFTto7Oq1o3daqkn7q5WvaNN35Lc3HfAf9nj4LfsyeAbf4ZfAr4ead4d0e3wTBYxfPO%2BMebNI2XmkIHLuWY%2BvFcr%2B1R%2B3D%2Bz5%2ByDpdsPij4nlude1PC6B4M0G3%2B2axq8hO1UgtkO45b5d7bUzxuyQD478W/22Pi7%2B1B8QdQ/Zf/4JqpaX15YTfZ/G3xlvYfO0TwwD96O2OCt7eY%2B6q5QHH3huaP0v9lb/AIJ9/A/9l7U7j4hodQ8ZfETVAW174k%2BMLg3mq3kjDD7HfP2eM9NkePlChi%2BAaccVUrr2GWxioR052vcVukIq3O15NQT3k3dH7RhOEMi4RwVKvxPzQk4p08FStCtKLV4yrSaawtOSs0nCWInF80aVNNTfkq/Cn9v3/goKRe/tAeIr34C/Cy5OU8A%2BFr4N4m1iA9BfXgGLRGHWJBuwWR0yA1fQP7O37Gn7MP7KOlf2b8BPg1o2gSNHsuNTjgMt9cj/AKa3UpaaQZ5wzEDPAFenUV1YbLMNQqe2nedT%2BeWsvl0ivKKS83uednXHOdZrg3l2H5cLgumHoXhTfZ1NeevPvOvOpLtGC91FFFFeifGBRRRQAUUUUAFFFFABRRRQAUUUUAFFFFABRRRQAUUUUAFFFFABRRRQAUUUUAFFFFABRRRQAV4z%2By//AMlv/aO/7LNY/wDqFeF69mrxn9l//kt/7R3/AGWax/8AUK8L0AezUUUUAFFFFABRRRQAUUUUAFFFFABRRRQAUUUUAFFFFABRRRQAUUUUAFFFFABXwV/wWv0b%2B3dGurHZu8v9nXx1cY/646/4Klz/AOOV9618bf8ABUfRv7e1nVNOCbj/AMMmfFeVFx1aO58KyAfmorgzSHtMsrx7wn/6TI%2Br4DxP1PjnKq/8uJw7/wDK9L/M%2BpPgzrP/AAkfwf8ACniHfu%2B3%2BGrG43eu%2B3Rs/rXS15d%2BxBrP/CRfsX/CPXS%2BWu/hloMrn/aOnwE/rmvUa6MLP2mFpz7xi/vjF/qeTnuG%2BpZ7i8P/ACVasf8AwGrUj/7aFFFFbnlBRRRQAUUUUAFFFFABRRRQAUUUUAFFFFABRRRQAUUUUAFFFFABRRRQAUUUUAFFFFABRRRQAUUUUAFFFFABRRRQAV4z44/5SF/C/wD7Iz48/wDTt4Qr2avGfHH/ACkL%2BF//AGRnx5/6dvCFAHs1FFFABXkP7a/xI8ffDz4T6RZfDLxK2hax4s8f%2BHfDEPiJLSGd9Ji1DU7e3nuY450eJphC8gi8xHjErRl0dQUb16ud%2BLHwn8A/G/wFe/DP4m6G2oaPfvBJNDFezW0scsMyTwTwzwOksE0U0UcscsTrJHJGjoysoIAPnSw%2BMv7VE/7IfxQsPBviDUfFXjv4ffEa78M2/ii10G1l1K%2B0uK%2BtWmv47OGJLee/g065lxEkQjmubUAQgSeVXnXws/aq/aE%2BOHjiP9lnw98bPHXh8Q/GbU9AX4meIPA2naf4lvdJtvCdhriI9heactrbXDXOorHmSxRja2ufKSSTzE%2Bq/C37KPwX8EfD26%2BF/hCz8SabpF7aTw3Qs/HmsR3Urz3Ul1Pdm6F39o%2B2yTyySPe%2BZ9pct80pAAGXffsN/s06h8M7D4UyeENYisNN8QS67Z6rZ%2BNdXg1pNUljlilvTq8d0uoPcSRTzRPK05Z4pGjYlDtoArfst/tE6z46/Yr8J/tCfFq2urrUpfDqy%2BIG8M%2BHrq9e8uInMEs9tZ2iSzusroZFijV2CuBzjNZ//BOnxDYeLf2br7xTpVvfRW2o/Fv4h3NvFqelz2VyiP4z1pgJbe4RJoHAPMciK6nIZQQRXr/gXwP4R%2BGXgnSPhx4A8P22k6FoGmQado2l2abYrS1hjWOKJB2VUVVHsK8u/YP/AOSIa5/2Wb4j/wDqa63QB7NXyf8A8FIvi9468bal4d/4J4fs8aw1v47%2BK8bjXtWgyT4a8MqSt5fPj7rOoeGMcbjvAIbZn6W%2BJPj3QPhX8O9e%2BJ3iqfytM8O6NdanqMmfuwQRNK55/wBlTXzP/wAEtfhb4l8V%2BEtY/wCCgHxrRZviB8bCmpKuCU0bQR/x4afAW5EflBJCRjflN2Sm4%2BTmUp4iccDTdnNNyfamtJW85N8i7Xk%2BiPDzedTFVIZbSdnUTc2t40k0pW/vTb5I9ryfRH0X8F/g/wCAvgB8KtB%2BDXww0VLDQvDunR2en26gZKqOXcgfNI7FndjyzMxPJr5X/aZ%2BKvxA/b3%2BMupfsB/su%2BJrjTPCOjOI/jn8SdObi0hJIbRLN%2BjXMoDLIRkINynOJFPZ/wDBRD9oz4h6DFoH7HH7Md4D8Wviqz2ul3UbHHhzShkXeryleUCIHEZ4JcEruMe0%2Bs/st/sz/DP9kj4LaR8E/hbpvl2WnRb72%2BlUfaNTu2A867nb%2BOWRhknoBhRhVUDGtH69WeAo%2B7SgkptadNKcbbaWc2tVFqKs5Nr9l4fw2D4DyKjn9emniqt1gqTScYRg%2BV4ucWrOMJLkw0GuWdWEqslKFGKnu/B/4OfDP4B/DrTPhR8IfB9noeg6TAIrOwso9oHq7Hq8jH5mdiWZiSSSa6aiivahCFOChBWS0SWiSPz3E4nE43EzxGIm51JtylKTcpSk3dtttttt3bbbYUUUVRgFFFFABRRRQAUUUUAFFFFABRRRQAUUUUAFFFFABRRRQAUUUUAFFFFABRRRQAUUUUAFFFFABRRRQAV4z%2By//wAlv/aO/wCyzWP/AKhXhevZq8Z/Zf8A%2BS3/ALR3/ZZrH/1CvC9AHs1FFFABRRRQAUUUUAFFFFABRRRQAUUUUAFFFFABRRRQAUUUUAFFFFAHMfGjQ/FviP4W63pHgX4lal4P1WSzL2niPSLK0uLmyKMHYxx3kM0DMyqyfvI3A35wSBXgKftNfGW2/wCCS/gP9pFfEsEvj3xX8N/B7T%2BILrT4vLg1PWBp9tJqDQIqxERy3jXBiCrH8m3AXivor4jfD/w/8VPBOofD7xVc6vDp2qQiK7k0HxDe6VdhQwbEd3YyxXEJJABMcikglTkEg8F4I/Yk/Zz8AfBFv2b9G8Na7eeBz4Zfw%2BvhzxD461jVoI9NICiBPt13KyBFAWNlIaJVVY2VQAADN/ZE8a/Eu78V/Fj4KfE34jX3jKb4b%2BPLbS9L8V6rY2dve31pdaJpmpql0tjBBb%2BdHJeyx5ihjBiWEldxZm8r/ao8a%2BG/in%2B1Ne/CvSdK8Qx3mmfsz/E6zv5NV8I6jY2kxmuvC6j7NdXMEcF6ODlrd5AuRuI3Ln6Q%2BDHwL%2BGnwA8NXXhX4ZaVfQw6hqcmo6peavrt5ql9qF26IjT3N5fTTXFzJ5cUUYaWRiqRRoMKiqPOvi3pKa9%2B3V8PtDkA23vwM%2BIMDZ9H1Pwiv9azrQ9pRlDumvvTX6nZl2J%2Bp5jQxH8k4S/8BnCX/tpV/wCCWms/29/wTv8Ag/fbs7PBNpb5z/zxBi/9kr32vlj/AIIo6s%2Br/wDBMb4XyzZElvbanayKeqmLVbyMA/gor6nrhyeftMow8u9OH/pKPqPEjDfU/ETOKH8uKxC/8rVH%2BoUUUV6R8WFFFFABRRRQAUUUUAFFFFABRRRQAUUUUAFFFFABRRRQAUUUUAFFFFABRRRQAUUUUAFFFFABRRRQAUUUUAFFFFABXjPjj/lIX8L/APsjPjz/ANO3hCvZq8Z8cf8AKQv4X/8AZGfHn/p28IUAezUUUUAFFFFABRRRQAV4z%2Bwf/wAkQ1z/ALLN8R//AFNdbr2avGf2D/8AkiGuf9lm%2BI//AKmut0Aeb/8ABYHxNrWo/s0aT%2BzR4NvWh1/40eN9L8H2DxcvFBNOJLqYj%2B4IomRj0Alr3X4j%2BOvht%2ByV%2BzxqXjnWUWx8L%2BAvDBdLeMgEW9tCFigTPV22pGo7syjvXz34q/4yJ/4LD%2BHvDQ/f6J8Avh5Pq12Oqprmr4hijYdMi0USqTyCDj1qv%2B3zI/7Wf7T/AMNv%2BCc2jOZtDkmTxt8XfLOVGjWco%2BzWUmO1xchQRwV2xsODXzU8VOnPE4uCvJyjRpru1p93PJt%2BUGd3hzkWH4p4yrVMXJxwtO7qzW8cPho%2B0rtf3pSl7OHepOCNz/gmz8D/ABrqdlrH7en7RVusnxM%2BL0EV4tswJXw7oRAey0yENygEex5OhZtoYFkLN9U0kcccUaxRIFVQAqqMAAdhS17eCwkMFho0ou9t295SespPzbu/uWyR6HE3EGK4nzqrmFaKipWUIR%2BGnTiuWlSgukKcFGK72lJ3lOTZRRRXUeCFFFFABRRRQAUUUUAFFFFABRRRQAUUUUAFFFFABRRRQAUUUUAFFFFABRRRQAUUUUAFFFFABRRRQAUUUUAFeM/sv/8AJb/2jv8Ass1j/wCoV4Xr2avGf2X/APkt/wC0d/2Wax/9QrwvQB7NRRRQAUUUUAFFFFABRRRQAUUUUAFFFFABRRRQAUUUUAFFFFABRRRQAUUUUAFeM%2BOP%2BUhfwv8A%2ByM%2BPP8A07eEK9mrxnxx/wApC/hf/wBkZ8ef%2BnbwhQB5j/wRa/0D9i6Twh0/4R/4heI9O2/3duoyvj/yJX1pXyX/AMEkP%2BJf4R%2BOfhA8f2F%2B0t4tslX0USQOCPb5zX1pXk5Fpk9Bdo2%2B5yj%2Bh%2BgeKvveI2Z1P56vP/4Mp0Kv/uQKKKK9Y/PwooooAKKKKACiiigAooooAKKKKACiiigAooooAKKKKACiiigAooooAKKKKACiiigAooooAKKKKACiiigAooooAK8Z8cf8pC/hf/2Rnx5/6dvCFezV4z44/wCUhfwv/wCyM%2BPP/Tt4QoA9mooooAKzfGHjLwh8PPC9/wCOPH/ivTdD0XS7ZrjU9Y1i%2BjtrWzhUZaSWWQhI0A6sxAFaVeIft/eG/EWu/BPRtW0TwpqWv2nhv4l%2BFdf8QaHo%2BnSXl1eabY61aXNwYraJWkuXhWP7SIUVpJPs%2B1FdyqkA9M034w/CPWfhkPjXo/xT8OXfgw6e9%2BPFttrlvJpn2RAS9x9qVzF5ShWy%2B7aNpyeK566/a8/ZOsfhdB8cL39p/wCHcPgq6vjZW3i%2BXxrYLpc1yNwMC3Zl8ppBsf5A275W44NfK3iPwr408YfsM/Gnw/ovwe8axHxr8SbzxV4a0F/CF/bajp%2BjT65bGTUYbaSFSb5Wgu9Wj05x58jPGssOZmQ%2Bcw/Db4qWt/D8R7y8%2BOWnaNJ8d9c1i1%2BNmmfCiSbxrdwzeErKxS4ufD/9kyRxRyTrcWAl/sqNRDp1u/lo05u2AP0r0rVdL13S7bW9E1K3vLK8t0ns7y0mWSKeJ1DJIjqSGVlIIIOCCCK8g/YSdIvgbr0kjhVX4y/EcszHAA/4TXW%2Bar/sc%2BBvi14N/wCCfnw0%2BHFjoOleA/F2k/DjSrCHTtX0ie%2BttJmito4wk1sLuOVyFX5o/tO5WJBkbGT598DvFfiX4Xf8E1Pil438Za3Y3mseH/EPxZvdR1DS9Pezt57mHxPr7vJFA80zQozqSsbSyFQQC7EZOdWoqVKVR7JN/cm/0Mq1WNCjKpLaKb%2B5N/oY/wDwSu1rT/EPwj%2BLH/BQLxpN5EfxU8earrkV3KPmg0HTmktrSNs8/u1in/AjitP/AIJSeFtc%2BI3hPxj%2B358R7Mp4m%2BN%2BvvqFlBKdzaboNszQafZg%2ByKzkjhg0ZPIrybxZq%2Bqfs//APBv14X8I%2BGomGt%2BNfAOmaLo1ohw09xrkil0H%2B15VzM3/Aa%2B6Pgx8NdL%2BDPwg8LfCLRNptPC/h2y0q3ZRjclvAkQb6nbk%2B5r5rKqTqVcPCf/AC7pqb/6%2BVW3f1s5NduY%2Bx4XhLh/wZjW2rZjVjTb6ulRhHEVV6TxNekpd1SUfs2Omooor6k%2BTCiiigAooooAKKKKACiiigAooooAKKKKACiiigAooooAKKKKACiiigAooooAKKKKACiiigAooooAKKKKACiiigArxn9l/wD5Lf8AtHf9lmsf/UK8L17NXjP7L/8AyW/9o7/ss1j/AOoV4XoA9mooooAKKKKACiiigAooooAKKKKACiiigAooooAKKKKACiiigAooooA8/wD2q/jVc/s5/s3%2BNvjjp%2Bgpqt54Y8OXV9p%2BmSzGKO7ulQ%2BRC7gEojSlFZwCVUk4OMV5/wDDb9of476Np/xi8B/GOz8JeIPGfws0uDVLK98NW0uiaZrNtc6c9zbo6Xl1cmzcTwXELu07psRJfk3GNPXvi58LPBvxw%2BFniL4N/EOwkutC8U6Lc6Vq0EMzRSNbzxNG%2Bx1w0bgMSrqQVYAgggV5p4Y/Yb8F6d4T8aeE/H/xa8aeOF%2BJFjdWXxBvvFEunC4161lsE0%2BOCQ2VlbrBHDbowjW2WHLTSySeY7lqAON/4J0/tk/FX9qi/wDFekfExdKm/sTQvD%2Bp2d5aeAtV8LXG7UYrp5Ld9O1Wea4lhi%2Bzp5WooRbXRklWIZtpCdbUfjF8JPG//BTzwT8O/BfxQ8Paxr/hr4OeOU8R6JpetQXF3pLvq3hHYtzFGxe3ZtrYEgUna2M4OO2/Z/8A2VtI%2BBHifWvH2ofFvxj468R65oumaNc%2BIPGk9i1xFpmntdPaWka2NpbRBUkvbuQyMjSyNMS8jhUC%2BK/ta/ENvAX/AAVz/ZIsJZvLtvE3g74laPcPnAy0fh%2B4jU/WW2jA9yKyrVY0KfPLa6X3tL9TDEV44elzy2ul98lH82iz/wAE1/8AiU/HT9qXwj08n46XWo7f%2Bvu2ifP47K%2BtK%2BS/2Jv%2BJR/wUW/a68JdBHrvhLUVX1%2B06TIxI/Fa%2BtK87JNMBy9pVF91Sf8Amfo/id73Fzq/8/KGDn/4Hg8K/wD20KKKK9Y/PwooooAKKKKACiiigAooooAKKKKACiiigAooooAKKKKACiiigAooooAKKKKACiiigAooooAKKKKACiiigAooooAK8Z8cf8pC/hf/ANkZ8ef%2BnbwhXs1eM%2BOP%2BUhfwv8A%2ByM%2BPP8A07eEKAPZqKKKACiiigAooooAK%2BBf2kvGLeB/%2BCNXx01aOQq918SPiFpqBerG7%2BIGqWpA9ciY199V%2Bcf7Tn/FQfsL%2BGvhAPm/4T/9tbX9AaL%2B%2Br%2BP9dmII9P3ArzM6k4ZRXtu4tL1laK/GR43EM5QyLE8u7hJL1laC/GaPQf2ivBy%2BIP2jP2Q/wBiC3jD2XhWQeL/ABBAPuwx6LYrFZFh3Vpy6ema%2B26%2BRv2bP%2BL1/wDBVH46fHGT97YfDvw3pPw/0Gc8gu2b6%2BUehSfap/3q%2BuayyiKl7astpTaX%2BGmlTj/6TJn6xxzCOWYTKMjhosLhKbku1TEt4md/NRnQi/8ADboFFFFewfABRRRQAUUUUAFFFFABRRRQAUUUUAFFFFABRRRQAUUUUAFFFFABRRRQAUUUUAFFFFABRRRQAUUUUAFFFFABRRRQAV4z%2By//AMlv/aO/7LNY/wDqFeF69mrxn9l//kt/7R3/AGWax/8AUK8L0AezUUUUAFFFFABRRRQAUUUUAFFFFABRRRQAUUUUAFFFFABRRRQAUUUUAFFFFABX51f8Fo9VvfA37Y/7KXxpt5fLt/A2r6xquqyf9OTax4XtZQT2BFwBn3r9Fa%2BEv%2BCzXw7b4n2dz4djiLyWn7OHj/Votv3g1hrXgy9yPf8A0evNziE55VW5N1FtesbSX4xPIz%2BE6mSYjk%2BJQcl6xtNfjA7n9n//AIkn/BXr9oLTOn9t%2BBPCmo4/veTDJb5/XFfWlfC/wN%2BJS3P/AAUr%2BG3xj1Zx9h%2BPX7MlnJpFwDjzNStHjvJosdyLeTd6jpivuisMkqRnQq8v/Pyb%2BUnGa%2B9TTP1Tj6ccXVyvHQ1hXwGDkn35KUqT/wDAXS5X2egUUUV7J8EFFFFABRRRQAUUUUAFFFFABRRRQAUUUUAFFFFABRRRQAUUUUAFFFFABRRRQAUUUUAFFFFABRRRQAUUUUAFFFFABXjPjj/lIX8L/wDsjPjz/wBO3hCvZq8Z8cf8pC/hf/2Rnx5/6dvCFAHs1FFFABRRXn/7S/xxufgD8NYvFmi%2BEV8Qa1qviHS9B8N6HJqP2OO91HUL2K0gWWfy5DBCrS%2BZLII5GWKNyqSMFRgD0Civn68/bkvtA/ZM8eftC%2BLPhGLbxB8N9Xv9I8V%2BFLPXTPa217a3CxNKL426H7D5UkV21y0CtHbsztCGRo687tf%2BCtXhu4%2BDtn48k0P4cxahqnxDvPC%2Bja1L8Xo08FX8drYpeXGqReIGsRvs03/ZCy2jP9tVoApVTKAD7Fr83tcvbbXfiv8As3/DO7kHkP8AtR/F7xNcA9FXSfEmtz7z9PMNfoX4B17UvFXgXRvE%2Bs2%2BlxXeo6Vb3V1FomrG/skkkjV2FvdGOI3EWSdkvlpvXDbFzgfl1P4q2ftJa5qAl4%2BGHw5%2BO/iwH/nk8/jXX7QH2JCCvGz6oqeAV%2Bs4fcpcz/CDODHYSeZVcLl8d8RiMPSX/b9emv0Pqn/gjBp11q/7GJ%2BO2tR41j4reOde8W6yTyfOnvpIQM9xst0I/wB6vrKvCv8AgmN4W/4Q/wD4J8fB7SPL2eb4C0%2B9K473MQuD/wCja91rfJ6bpZTQi9%2BSLfq0pP73Jv5n6H4kYyOP8Qc2rQ%2BH6xWjHyhCcqcEvKMKUYryigooor0j4sKKKKACiiigAooooAKKKKACiiigAooooAKKKKACiiigAooooAKKKKACiiigAooooAKKKKACiiigAooooAKKKKACvGf2X/8Akt/7R3/ZZrH/ANQrwvXs1eM/sv8A/Jb/ANo7/ss1j/6hXhegD2aiiigAooooAKKKKACiiigAooooAKKKKACiiigAooooAKKKKACiiigDnfi58UvBvwP%2BFviL4x/EO/e10LwtotzqmrTxQtLItvBE0j7EXLSOQpCooLMxAAJIrkvg/wDtU%2BEPihofi2/8VeC/EHw/1HwHKo8X6B44%2BxR3WmQvaJeR3LvZ3NxbvC8D7g6TMAUkRtrxuq3/ANqv4K3X7Rn7N3jb4Hadr0elXnifw5dWOnanNCZY7S6ZCYJnQEF0WUIzICCygjIzmvK/Cn7MHxz%2BIUPxdvP2itM8I6Vc/GnQToOtW3g7xPd30eh6dDphs4PJkuLC3N5LJLc3srllgEStCgExVnIB6p%2Bz78eL39oDw4/jGP4H%2BNPCOkXFtb3Wg33i%2BLT4jrNpOrPHcQw213PNANoVjHdRwTL5igxg7gvB/Hfwjp/xA/bQ8E%2BAtWA%2By638A/iLYXORn93NqPhKNuPoxrA/YA/Y5%2BI37MPiDXta8WeGvA/hexv/AAloOir4d%2BH%2Bq3V3a6pf2BvPtOv3RuLa3KXt2tzCjrtlfbap5lzOdvl6l/8ADHw34O/4KbeC/Gek6l4hmvPEPwe8cSX8Oq%2BLtRvrSIpq3hLAtrW5nkgsgdxytukYbA3A7VwpRUouL2ZMoxnFxls9Pv0Pi3w34m1jw9/wS1/Z5/a3nhca3%2Bzp8TFsvEyxgs8elDUZdOu7cY5%2BaFrXPoAeK/Va2ube8t47u0nSWKVA8UkbAq6kZBBHUEV8KfstfB3T/iR4R/bJ/YN1YIkcvxJ1e505JBxZwa1ZrPaMB2CPHvX3Fe1f8EsfjFqHxp/YT8A6x4hLrrehaa3h3xBBMf3sV5p7taN5n%2B2yxJIf%2BulfK5DJ0Ksacvt01/4FRk6Uvm4qDPq8plLOfBjL6stamW1p4aXf2VbmnTv5KtQrR8ue2l9foSiiivqz5YKKKKACiiigAooooAKKKKACiiigAooooAKKKKACiiigAooooAKKKKACiiigAooooAKKKKACiiigAooooAKKKKACvGfHH/KQv4X/APZGfHn/AKdvCFezV4z44/5SF/C//sjPjz/07eEKAPZqKKKACvPv2l/gddfH74axeE9F8Xr4f1rSvEOl694b1yTTvtkdnqOn3sV3A0tv5kZnhZovKljEkbNFI4V42KuvoNFAHzhL%2Bwt441X9n/xb8HfEXx2sJtV8Z%2BIv%2BEo1nxHZ%2BDniV9eGqRXyN9me9dW00JbWtobJmLvBE4e5YyFhkxf8E8/HkOuJ8bF%2BN3heT4sJ8ULrxrH4hn%2BHEjaFFNcaBDoMtrHpY1ITIjWdvFIZPtvmm4UuWMbGGvqWigDzP4N/stfDn4Y/st6D%2Byh4q06y8Y%2BHdK0CPTNQt/EGkwS22pKPmffasrRLGXJKw4KooVRwor8mvCx8OeDfC37cV94P0Gx0jSPh3pOv%2BBdJ07TbRLe2sbfUfG2syJbwxoAsaAOAEUAAYAFftjX4uDwudU/Zi/bAVUO74jftv3fhBfWT7N4mln2j/v4a%2BZ4p5vqC5enO/upzS/GSPoOBcHHMPFHhyhP4FjaM5f4aSlUb%2BSg38j9dvgF4W/4Qb4FeCvBPl7P7H8JabY7Mfd8q1jjx/wCO11tIqqqhVAAAwAO1LX0dOCp01BbJJfckv0PHxeJqYzF1MRP4pylJ%2BspSk/xkwoooqznCiiigAooooAKKKKACiiigAooooAKKKKACiiigAooooAKKKKACiiigAooooAKKKKACiiigAooooAKKKKACiiigArxn9l//AJLf%2B0d/2Wax/wDUK8L17NXjP7L/APyW/wDaO/7LNY/%2BoV4XoA9mooooAKKKKACiiigAooooAKKKKACiiigAooooAKKKKACiiigAooooAKKKKACvGfHH/KQv4X/9kZ8ef%2BnbwhXs1eM%2BOP8AlIX8L/8AsjPjz/07eEKAPJvD2owfAD/gsh4m0vxGjWWm/Hn4dWFzoV44xFe6vo4aGS2z/wA9FtW8z6MO5ApP2K720/Z//b4%2BP37Iuo3C2lp4k1i3%2BI3gm2kbb9qivowmo%2BWD/DHcIi4XsGPGDXef8FKf2cPFXx7/AGfP%2BEm%2BEZaD4kfDrU4vFXw8vYVzJ/aFqd5tx/eE0YaPYTtLGMtwteW/Fmxvv%2BChX7Jfw8/4KAfslGPT/i14JhOs%2BF40OWkuEzHqOhT8gvHIUkjAOMkLyqyMT8pWhWweLkoK7hJ1orrKE9KsF/ei/eS6%2B73ue94aY7AYXNsx4WzKoqVDMYe5Ul8NOp7WNSnOX92niE4VGtY0sS568kr/AGtRXmv7I/7Tvgf9r34D6L8bvA6tbrfxmHVtJnb9/pV/H8txaSjAIdH9QNylWAwwr0qvp6NaliKMatN3jJJp90zzsyy7HZPmFbA42m6dalKUJxe8ZRdmn8%2Bqummmm002UUUVocQUUUUAFFFFABRRRQAUUUUAFFFFABRRRQAUUUUAFFFFABRRRQAUUUUAFFFFABRRRQAUUUUAFFFFABRRRQAV4z44/wCUhfwv/wCyM%2BPP/Tt4Qr2avGfHH/KQv4X/APZGfHn/AKdvCFAHs1FFFABRRRQAUUUUAFflkfAU%2Bm%2BEPAHgma32N47/AOCkni7xDcR5BM1rZ%2BJ9XjbPsVgQ/gK/U2vzl8M/8VR%2B1x%2BzX4CX5orb46fHPW7xf7n2fxFq4hb/AL7YivGzyEZ4JJ7uUI/%2BBTgn%2BCPvPDKnFcZ0sW/%2BYeji6q8uTB4n9ZK3nY/RqiiivZPgwooooAKKKKACiiigAooooAKKKKACiiigAooooAKKKKACiiigAooooAKKKKACiiigAooooAKKKKACiiigAooooAKKKKACvGf2X/8Akt/7R3/ZZrH/ANQrwvXs1eM/sv8A/Jb/ANo7/ss1j/6hXhegD2aiiigAooooAKKKKACiiigAooooAKKKKACiiigAooooAKKKKACiiigDN8Z%2BMfCvw78H6t8QPHOv2ulaJoWmz6hrGqXsoSGztYY2klmkY8KiIrMT2ANc58EP2hPhV%2B0Romoa78LdY1GZdI1AWOrWGt%2BHb7SL6xuDDFOqT2d/DDcRboZoZULxgOkqOpKsDWL%2B2p8IfFXx8/ZM%2BIfwd8CvajW/EHhS8tdHjvpSlvNdGMmKKVgCVidwqO2DhWY4OMHzD4a%2BBP2lvHPiX4zfEWb4f678Ita%2BKmk2%2Bl%2BFL7U5NI1WfwvJY6WYYtTu4bS/eKZ3urmUxwxSSBo7NDK0Jk2qAe0/CT9on4NfHbW/GHh74TeNo9ZuvAPiaTw94rEFpOiWWpRxRySW4kkRUmKrIoZoi6q4ZCwdHVeO8cf8pC/hf/2Rnx5/6dvCFcD/AME6v2Vf2g/2WvHHxZ0b4q6x4QuvDOp6zoY8GSeFvC0%2Bmi6htdBsLKScrPqt/KBut/KKykSPJDLMXZZlVd2/8F%2BJPD3/AAU28F%2BItW%2BLniHXbPVvg944ew0HVbbTktNFC6t4Syls1taRTuH3DP2iWc/INpX5sgH0PXw9J4kuP%2BCU/wC1P4m1Pxlo80X7Pvxh8RpqcGv2oLQeCvEUwCzrcoB%2B6tblgrBx8qbVGAFY19w1leOfA3g/4meD9S%2BH/wAQPDdprGi6vaPa6npl/CJIriJhgqyn%2BfUHBGCK4cdhJ4mMZ0pctSDvF7razTXWMlo%2BuzWqR5uZYGpi4wqUZctWm7wla6u1ZxkusZLSSWuzWsUfJXxi%2BD3xv/Yz%2BLmu/ts/sS6InjLwb4xlj1L4pfCeyK775tvzavpTrkfaCpLvGM%2Bbkn5yVCfRv7N/7THwc/aw%2BF9n8W/gl4sj1PS7k%2BXcQsNlzYXAA329xEeYpVzyp6ghlLKQx%2BW9Hsf2p/8AglFJc6D4f8Da18X/ANnmK4M2mRaXMbjxJ4Htzy0Iib/j9tE5K4IZFySUC/NYsv2ff2fv2vb65/bX/wCCYX7UB8BeO9QKyazfeHv3mnapN97ydX0uTG2QnOWKq2WMhWQ4NeHhsRWwtdxows3dyotpNPrKjJ2Uot6uN7O9/cldP9Gyvi/h3jzDU8s4mn9TzKlGMYYhxclOEEoxhiFH3qsIpRVPFUlKpCCjCvTnGMXD7Zor4703/gpF8XP2Z3Twl/wUo/Zw1fwkIJBF/wALQ8EWMuq%2BGLwcASuYw01mW7RurNwTheg%2Bm/hL8cPg98efDKeMfgx8TdE8T6a4GbrRdRjnEZP8LhSTG3qrAMO4r3MLmWDxcuSErTW8Ze7JesXZ/NXXmcue8FcScPUVicTR5sPJ2jXptVaE/wDDWp80Lv8All7Oa2dNPQ6miiiu4%2BVCiiigAooooAKKKKACiiigAooooAKKKKACiiigAooooAKKKKACiiigAooooAKKKKACiiigAooooAK8Z8cf8pC/hf8A9kZ8ef8Ap28IV7NXjPjj/lIX8L/%2ByM%2BPP/Tt4QoA9mooooAK8Q/b%2B8SeItC%2BCejaRonivUtAtPEnxL8K%2BH9f1zR9Qks7qz06%2B1q0trgRXMTK9s8yyfZhMjK8f2jcjI4Vh7fWb4x8GeD/AIieFr/wP8QPCmm67omqWzW%2Bp6PrFjHdWt5Cww0csUgKSIR1VgQaAPjPxH8TPiN4V/4J8/GbRvDXxd18y%2BGPirfeDvAXirUNeuJ764hk1m1tIbSXUpJDOgS4uZdOa/Z2mt0iMzM8kJY%2BS/EP9ob9oP4U/su/F34AapqPxP0zWLP4ha3p2r%2BIvBVx4k8cnwNpsHhvTNTSztddjtnv5HuWvIdt3dpbNam8vQjKLGAyfoPpv7O37P2jeEW8AaR8C/B1poL6EdEfRLbwxaR2jaYXdzYmFYwhty0kjeTjZl2OMk1b8F/BT4NfDj4fyfCb4efCXwzoPhWWOZJfDOi6Db2unus2fOU28SLGQ%2B5tw2/Nk5zmgDkf2f8A4qax4g/Y38E/FrSvCfinxVqF14F027/sp7YWeralMbaPfldVktgsjNubdO8Yb7245BPxL%2BxX4lk8b/8ABRLw3feI/D17obeGvDXxU1%2B70nVHgkuNOmvPiPrFqYJDbSSxNKPunypJFJHyswIJ/SfS9L0zQ9MttF0XToLOzs4EgtLS1hWOKCJFCqiKoAVQAAABgAACvzX/AOCbP/FWf8FCPj/4g%2B9/wiXifVtD3f3PtXxD1i92/jjNeTmvvSw9PvVh/wCSqcv0R%2BgcA/uaWc4r/n3gMQvnVlh6K/8ATkl8z9Gv%2BEw0n/n01T/wR3f/AMapf%2BEw0n/n01X/AMEd3/8AGq%2BdvH3/AAWR/wCCb3wv8d618NPHP7Rv2HW/DurXOmaxZf8ACIaxL9nureVopY98doyPtdGG5SVOMgkc1k/8Py/%2BCWn/AEdD/wCWTrf/AMhVUs8yWEnGWJppr%2B/H/Mzo%2BFviZiKMatLJMXKMkmmsPVaaaTTTULNNNNPqmn1Pp/8A4TDSf%2BfTVf8AwR3f/wAao/4TDSf%2BfTVf/BHd/wDxqvnbwD/wWR/4JvfFDx3ovw08DftG/btb8RatbaZo9l/wiGsRfaLq4lWKKPfJaKibndRuYhRnJIHNd9%2B398YPiZ%2Bz7%2BxN8U/jj8G7TTZvE/hLwPqGq6OurzMlussELSb32xybtqhmCbcOyhCyBi69eFxuDxsXLD1IzS35Wnb1sfP55wzxJwxWhSzjBVcNKabiqtOdNySdm0ppNpPRtddD0v8A4TDSf%2BfTVf8AwR3f/wAao/4TDSf%2BfTVf/BHd/wDxqvnvU/23Pjb4V%2BIfjnwX8QvgV4E0LT/hl8PLTxN458T3fxUujY273cWqNb21tjRxLOofT4xLK6RFEuC0cczoIpOZ%2BG3/AAUq1f4q6p4Z0PVvhPq/hfW4vjRL4O8Q6Qst5bQyIfB%2Boa/DPt1jR7S9eF0hiTb9ntJBKgZZZIVK3HSeGfVX/CYaT/z6ar/4I7v/AONUf8JhpP8Az6ar/wCCO7/%2BNV88/slft8/En9ofT9EuPHP7MH/CP3fiz4TaL8QfCel%2BHvGsOqz3WnXzBHgnNxBZRW9xCXiYqHkR0fIcMpjrqf2q/FnxV1L4tfC/9nj4W/FfUPAjeNrrWLrVvFejabY3V7Fb2FkJFtoFv7e4t1aSaaFmZ4nPlQSqu1mEiAHrv/CYaT/z6ar/AOCO7/8AjVH/AAmGk/8APpqv/gju/wD41XzlB%2B0J%2B0j8T/8AgmR4Q%2BP/AMPrS5/4TnXdI8OzeIbvwroa3txb2kt/aRaxqGnWUiyCeVLM3lzbwFZdzLGuyc4jfgfCv7S/xB8a/sy/ELxv4z/aq%2BJfgqH4WfEa/wDD2neIj8P9Ih8ReMPMtLG402GXTbzTGQXMkl%2BlsltBbW80zrGpWJ2ZKAPsv/hMNJ/59NV/8Ed3/wDGqP8AhMNJ/wCfTVf/AAR3f/xqvhz9oH9qv9u34EWGh/EX4u2ninRrvSvAngq9m8L%2BCvA8Oo%2BH9f1q5uzF4is7/UWtpmsBCpjW3AuLXJdWQ3bEwr6f49%2BIfxI%2BFH7dBh1P9rbxZP8ADrwp8Ndc8ffFPw/rOi6G2naRYM/kaZbxSW2mR3yqTDqk4Zrh3I0vaxfe1AH0n/wmGk/8%2Bmqf%2BCO7/wDjVX7C/tNTtEvrGcSRSDKsAR3wRg8gg5BB5BFfIP8AwTG/bq1H9sH4rfFy01n9oHwd4mhtZtG1bwx4U8L6xpt4fDOnXdoW%2BxyS2bM08qERieR3kUXLTLGyxhFH1f4P/wCQTN/2FL7/ANK5aANWiiigAooooAKKKKACiiigAooooAKKKKACiiigAooooAKKKKACiiigAooooAK8Z/Zf/wCS3/tHf9lmsf8A1CvC9ezV4z%2By/wD8lv8A2jv%2ByzWP/qFeF6APZqKKKACiiigAooooAKKKKACiiigAooooAKKKKACiiigAooooAKKKKACiiigArxnxx/ykL%2BF//ZGfHn/p28IV7NXjPjj/AJSF/C//ALIz48/9O3hCgD2aiiigAr5w%2BO//AAS8/Zv%2BLvjab4yeAptd%2BGHxCkYv/wAJv8N9UbTbqWQ8kzxp%2B6nDEDeSodxwWr6PornxOEw2MhyV4KS316Puno0/NNM5MZgcHj6fs8RTUktVfo%2B6ejT800/M%2BPWh/wCCvf7ONtJpN1pfgD9o3wzEpRWlmHh3xBNFjBWQMGs2%2BXj%2BJm5z1r50%2BJmv/wDBMO%2B8UnxX%2B0L%2Byz8Yf2WPG/mFW8XeH9EvdLiSViMvDPp4kglBbB8wwDJySepr9TaZPBBdQPbXMKSRyKVkjkUFWB6gg9RXkYnI3Vioxq8yWyqRVRL0k%2BWovlO/mdWR5jxfwjXdbh/Na2HbVnFvnjJfyyTaco%2BU/aK3Te/57/C74hftFwRRD9jr/gsJ8KPivZ8fYvCvxdggW%2BVeyyXNq4u3Y%2Brotepp%2B2R/wUZ%2BGCBPjj/wTSudftYxmTXvhX41tr9Zh3MdlKBOPUZbmvUfid/wTr/YX%2BMUktx8QP2U/BN1cTkma9tNDjs7mQ%2BpmtwkhPvurzA/8EZf2XfDbFvgf8S/i38MsHMS%2BBPiXeQLF/uiczVxf2fnmG/gy08qja/8BrQn%2BEz6f/iImfYj/kdZJgMb3nBTwlV%2BfNQ9nFvzdN666jof%2BCzf7Jfh6Rbb46eEfid8LpywV4fH3w5vrco3oTAsw6969I8C/wDBSH9gn4jKn/CLftdeAmeXHlwah4ihspW9hHclHJ9sZrzOX/gn7%2B2d4Xia3%2BFP/BV/4gQRbSqw%2BNvCWneINy%2BjmbZu9zivOPHP/BOD9uXXy7%2BINR/Zc%2BI0pz/pXjn4MrZzOfUyWSlkJ9VNP65xLQ%2BKlzf9ur86dX/21C/1k8O8T/vWSZhhn3oYnDYmPyjWhSn98rn3b4b8Z%2BD/ABla/bvCHivTdVgIyJtNvo50x65QkVpV%2BU/iP/glH%2B0NFdf2jqv/AATs%2BAWoXiHKXnw8%2BJniHRGB9UWWYIv4rWd/wyH%2B3n4G48NfsqftB%2BG44/uzfD/9rqxaIewguLd3I9iaP7fzKn/Fwcvlz/rB/mHt/Cuv8OY42h5VstqSS/7ew2IqX9eVeh%2BtNFfkqdV/4KkeBv8AkGXX7W%2Bn7On2rQ9F8U4/No9/9aX/AIbZ/wCCrHgz5dR8QfHK72dX8V/sjW1tEf8AgdndsT9QKP8AWuhD%2BJh6kflf9EH1HgOr/B4kwy8qtDMKL/8AJsHUivnI/WmivyWH/BX3/gov4UYLq9l4GkRfvnxV8IPFFk%2BP%2B3YOAf0qRv8Ag4J%2BO/hgD/hMvCfwnuWH3ltbfxLZkn/tvZMB%2BNH%2BuWSr43KPrH/gi/sPI5/weIMsl/3Oxpv7q1Clb5s/WWivys0v/g5J8QK6pe/sreGdRBPMtj8VFtAPfbdWQP4V1Gl/8HG3gyRQ2vfsuNb/AN77H8UNJnx/31szWsOMOHZ/8vresZf5F/6rVZfwsfgKn%2BHMcA/w%2Bsxf4I/Suivzsg/4OQP2XrVQ3iH4H%2BM4f739n6npF1%2BWLxc1q6P/AMHHv7CGrMEfwF8ULZu4l8O2T4/793rVtHirh2X/ADEx%2Bd1/7abR4H4jqR5qUaU13jisFL8sd%2Bh9/UV8UaZ/wX3/AGA78A3E3jq0B/5%2BPB0px/37Zq2bX/gun/wTalAOofF7WbEHqbvwRqnH/fFu1dEeIciltiYf%2BBJfnYn/AFG4ubtDByl/hlSn/wCkV5n19RXypY/8Ft/%2BCX2oYEP7UtuhPa48K6vF/wCh2grZsf8Agr7/AME2NQx9n/az8PLn/nvb3UX/AKHCK1jnWTS2xNP/AMDj/mN8B8cL/mWYj5UZv8lI%2BkqK8Fsv%2BCo3/BPG/wAeR%2B2B4GXP/PfWVi/9DxWrZ/8ABRP9gm%2Bx5H7ZnwxXP/PbxvYx/wDocoraOZ5bLavD/wADj/8AJGU%2BCeNKavLLMSv%2B5ev%2BlFnstFeX2f7b/wCxbqGPsH7Xvwvnz08nx/pzfymrTtP2qf2YL/H2H9o/wFNnp5PjCybP5S1osZg5bVYv/t6P/wAkcNThziOj/EwNePrRrL86KO9orlbX47fBC/x9h%2BMnhWbPTyvENs38nrRtfiL8Pr3/AI8vHWjTZ6eVqkTfyatVWoy2kvvX%2BZxVMuzGl8dGa9YTX5wRs0VWttY0m9x9j1S2lz08qdW/kas1aaexyyjKLtJWCiiimSFFFFABXjPjj/lIX8L/APsjPjz/ANO3hCvZq8Z8cf8AKQv4X/8AZGfHn/p28IUAezUUUUAFFFFABRRRQAV%2BdP8AwSD8PY%2BOP7Yfjop/x/ftP32nB/X7L4iv2x%2BH2j9a/Ravib/glD4XbRfAP7QmvzJ8%2Bs/to%2BOJ0cjrHH4kEIH0DRv%2BZrgxdP2mKw7/AJZSf/kkl%2Bp9ZkGNWEyDOI31q0aUPk8VSm//AE2j7Zor5i8f/wDBTX/hAvHet%2BBf%2BHfP7T2tf2Lq9zYf2xoHwn%2B02F/5MrR%2BfbS/aR5sL7d6PgblZTgZrI/4ew/9Y1P2tP8Awzf/AN1VlLOssjJxdTVf3Z//ACs/OpcQ5NCTjKrqtPhqdNP%2BfR9aVi/Ef4eeDPi58Ptc%2BFXxG0GLVfD/AIl0i50vXNMnZlS6tLiJopoiUIYBkZhlSCM5BB5r588A/wDBTX/hPfHei%2BBf%2BHfP7T2i/wBtavbWH9sa/wDCf7NYWHnSrH59zL9pPlQpu3u%2BDtVWODivZv2k/GHxO%2BHnwC8X/EH4M%2BHLTWfE%2Bg6Bc6lo%2Bi3sLumpSQIZTagI6EPKqNGjbsK7qxDAFT14bGYbGRcqMrpb6SX/AKVGP6nbg8fg8wi5YeXMlo9JLz%2B1GP4XMaD9jX9nhfCvinwdqfhDUtXs/Gvhu30HxVL4i8V6nqd1qVhB9p8mOS5u7mSfen2ufEocSjcvz/Im3O8D/sFfstfD3Ul1zw/4C1KbUh4uHiiXVta8Y6tqV5cauNIm0YXc1xeXUss7DT55bfEjMu0qcbkRl8N8R/8ABR/4m/Ejwtc%2BMf2XG0PVbDxH47m0j4USxeEl1RvEGnWGkLdareyNc63pVtDHFd%2BfAHa4XaLNwElaQeXxPg39ur4jfFzxHonx4svtNrp3jz4Zfs76rH4UbX737DpU/iLxdrttfyQfZp4tzmLyUZjlJ1tYVmSWJfKPSdh9h%2BGP2TvgR4JsdEsPB3hO90pfDnga08HaJNp3iPUIZrTRbV43gtVlScOdpijzIWMjAEM7BmB0fjf%2Bz18Kf2idE0/Q/ilo%2BozDSNRN9pF/oniK%2B0i%2BsbgwywM8N5YTQ3EW6GaaJwkgDpIysCpIr5N%2BCf7VP7UHxu/ak%2BEHjDU/FXhH%2BxPHfwt8f634c%2BHulXV7p7Wslnf6NBbQatKZrhLqWPzSjXCW0RtpHuEWKTOT7d%2B2/q3iSfTPhR8N5fFWq%2BHdI8d/Few0PxnqXhvXbjT7qGzOn390kEN7btFPb%2Bfe2tna%2BZG0cjLcFVKlxQB6FJ%2Bzv8LE8Bj4YaNY6xougReHLDQrLTPDPivUdKj0%2BxsyTbpafY7iI2bqDtMsBSV0REZ2WNFXi/Ev/BPX9lXxX4U8J%2BDtR8JeJLe28E69d654du9I%2BI%2BvWF9Fql0sq3F/NeW17Hc3dzIJ5g088kkh86T5vnbPA/CLUf2hfin/AME2/G%2Bh/Cf4k3c/jSz1Lx34c8A%2BLNY1UtcXFvp%2Bvapp%2BmXEl5KHLSm1toB9rcOXbE7b9xzxX7Ptn8Vfizp3xv8AgWfBfj6wsPCXinRj4J8PeOP2hNWtNVhv5dKinu9Pu/EGk3V9dJGNyXQhWa62rdJuVVZYogD6V8Qfsl/BTxd4g8MeI/F1p4m1aTwhb2EWj2Wq%2BP8AWbmxd7KTzbW4urSS7a3v7qOXEourqOWfzERzIWRWHUeHvhV4C8K/EDxH8U9D0Hytf8WR2Uev6k91LI1zHaRultGFdisSIJJCEjCrulkcgs7Mfzcn%2BNXxc8X/ALNGpa/4w/aS8ZaZq/wu/Zr8ReKfDV/pfiy7the%2BJ9O1jUbOZrh4Zh/bsFm9hZWy/aPNiu0vBLJGXuF2%2Bt%2BJfEX7WXwy/bW8Fa34q0fxhPL47%2BMkVhZ3afEJX8ON4Yk8PTSy6Ymii6yl7bTQSXT3H2QEiAubtlk%2BzkA%2By/D3wx8D%2BFPG/iL4j6Bofka14ra0Ov3n2mV/tRtovJg%2BRmKJtQ4%2BQLnqcnmrXg//AJBM3/YVvv8A0rlrUrL8H/8AIJm/7Ct9/wClctAGpRRRQAUUUUAFFFFABRRRQAUUUUAFFFFABRRRQAUUUUAFFFFABRRRQAUUUUAFeM/sv/8AJb/2jv8Ass1j/wCoV4Xr2avGf2X/APkt/wC0d/2Wax/9QrwvQB7NRRRQAUUUUAFFFFABRRRQAUUUUAFFFFABRRRQAUUUUAFFFFABRRRQBHe3tnp1nLqGoXcUFvBE0k880gVI0UZZmY8AAAkk9K5nwD8dPgj8VvAU/wAVPhd8Y/CviTwvbGYXPiTQPENteWEXkjMu64hdo12Dlst8o64rjP2%2B/h940%2BK37FHxT%2BHHw80aXU9Z1nwNqNrZaRA4V9TLQNus1LEKDOu6EbiF/eckDJrzj9nfxrpU3xS%2BNfxxm%2BEPjvTfBni%2BOwl0fRtU%2BGOrWt3qr6Zo8cd9cGwltVmRpEa3s4klRHuTYlYVkVUJAPfPhP8AHD4LfHrQJvFfwM%2BL/hfxppdvdG2uNS8J%2BILbUbeKYKrGJpLd3VXCsp2k5wwPcVwPjj/lIX8L/wDsjPjz/wBO3hCuJ/4J5eI9Q%2BMfiT4h/tQ%2BN/Afi3wn4p8cS6XHc%2BEPEvw/1bQ/7C0q0juE0%2B0aTULWBb%2B8xLcSXMsBkjjeZIVZo4opJcv4zSftg%2BHP%2BCjfgPU/Aln8NfGVpdfCjxuNF0PV7nUPDMmmWo1Twn5jT30aaoL6Qt5QVVtbVVG8kscCgD6worxn/hOP%2BChf/Rr/AMGf/D8at/8AMvR/wnH/AAUL/wCjX/gz/wCH41b/AOZegD2aivGf%2BE4/4KF/9Gv/AAZ/8Pxq3/zL0f8ACcf8FC/%2BjX/gz/4fjVv/AJl6APZqK%2BcdJ/aO/bt1j4z6/wDA63/ZQ%2BEi6p4d8L6Rrt5cv8ddU8iSDUbnUreFEI8Mbi6tpc5YFQAHjwWJYL1H/Ccf8FC/%2BjX/AIM/%2BH41b/5l6APZqK8Z/wCE4/4KF/8ARr/wZ/8AD8at/wDMvR/wnH/BQv8A6Nf%2BDP8A4fjVv/mXoA9morxn/hOP%2BChf/Rr/AMGf/D8at/8AMvXL%2BAf2jv27fiJ4r8b%2BENH/AGUPhJDceA/FEWharJc/HXVAk88mlafqYeLb4YJKeTqMKksFO9HGMAMwB9HUV4z/AMJx/wAFC/8Ao1/4M/8Ah%2BNW/wDmXo/4Tj/goX/0a/8ABn/w/Grf/MvQB7NRXjP/AAnH/BQv/o1/4M/%2BH41b/wCZej/hOP8AgoX/ANGv/Bn/AMPxq3/zL0AezUEBgVYAg9Qa%2BcfhF%2B0d%2B3b8ZfCl34v8OfsofCS2t7PxRrehSR3vx11RXM%2Bl6rdaZO42%2BGGGxprSRkOclGUkKcqOo/4Tj/goX/0a/wDBn/w/Grf/ADL0Aepah4I8F6vn%2B1fCGl3Wev2jT43z%2BamsO%2B/Z7%2BAeqZ/tP4H%2BD7nPXz/DVq%2Bfzjrif%2BE4/wCChf8A0a/8Gf8Aw/Grf/MvR/wnH/BQv/o1/wCDP/h%2BNW/%2BZes5UaM/iin8l/kZSoUJ/FBP1Sf5pm9e/scfsh6nn%2B0f2VvhvcZ6%2Bf4H098/nDWTef8ABP39hG%2Bz9o/Yw%2BFeT1KeANOQn8VhFV/%2BE4/4KF/9Gv8AwZ/8Pxq3/wAy9cv8Ef2jv27fjx8GPCHxx8K/sofCS10vxn4X0/XdNttQ%2BOuqLPDBd20dxGkgTwwyhwsgDBWYZBwSOaxeBwUt6UX/ANux/wDkTCWXZdP4qEH/ANuQ/wDkDcu/%2BCZv/BPq9z537HHw9XP/ADy8MwR/%2BgqKzbr/AIJR/wDBOa8z5v7IXg8Z/wCeVkyf%2BgsK3v8AhOP%2BChf/AEa/8Gf/AA/Grf8AzL0f8Jx/wUL/AOjX/gz/AOH41b/5l6zeV5ZLehD/AMAj/wDImMslyeW%2BGp/%2BC4f/ACJyNz/wR9/4Jq3X%2Bt/ZL8PjP/PO6u0/9BmFULn/AIIs/wDBMW6/1v7KmnDP/PPX9TT/ANBuRXe/8Jx/wUL/AOjX/gz/AOH41b/5l65f43ftHft2/Af4MeL/AI4%2BKv2UPhJdaX4M8L6hrupW2n/HXVGnmgtLaS4kSMP4YVS5WMhQzKMkZIHNZvJsne%2BHp/8AgEf8jJ8P5DLfCUv/AAXD/wCROcn/AOCHX/BLe4OX/ZcRT6x%2BMdZX%2BV5VOf8A4IS/8Evpvufs8XUX%2B5401c/%2BhXRr1f8A4Tj/AIKF/wDRr/wZ/wDD8at/8y9H/Ccf8FC/%2BjX/AIM/%2BH41b/5l6h5Fkj3w1P8A8Aj/AJErhzh%2BLusJTXpCK/JI8cm/4II/8EyZfufBfVY/9zxhqP8AWY1Vm/4IAf8ABNSX7nw01%2BP/AHPFt3/VzXtv/Ccf8FC/%2BjX/AIM/%2BH41b/5l6P8AhOP%2BChf/AEa/8Gf/AA/Grf8AzL1D4eyJ/wDMLT/8BRvHJ8rh8NJL05l%2BU0eETf8ABvj/AME35PueD/FMf%2B54rm/qDVaX/g3j/wCCdMn3dJ8Zp/u%2BKD/WM16x8Xf2jv27fg14UtPF/iP9lD4SXNveeKNE0KOOy%2BOuqM4n1TVbXTIHO7wwo2LNdxs5zkIrEBjhT1H/AAnH/BQv/o1/4M/%2BH41b/wCZeofDeQP/AJhYf%2BA/8E3jgcPD4eZek6q/Ksj53k/4N1/%2BCeT/AHf%2BE7T/AHfEyf1hNR/8Q637BUZzZ%2BJ/iTb%2Bnk%2BKIBj87Y19Gf8ACcf8FC/%2BjX/gz/4fjVv/AJl6P%2BE4/wCChf8A0a/8Gf8Aw/Grf/MvS/1Z4e/6BYfd/wAE1VG21Sp/4Or/APzQfOyf8G9X7GkH/Hn8Xvi/b/8AXHxfbD/20qeL/ggP%2BzBbf8ef7SPx0g9PJ8cWwx/5JV9Bf8Jx/wAFC/8Ao1/4M/8Ah%2BNW/wDmXrl/H37R37dvw78V%2BCPCGsfsofCSa48eeKJdC0qS2%2BOuqFIJ49K1DUy8u7wwCE8nTplBUMd7oMYJZT/VrIFtho/j/wDJClh1LedT/wAHV/8A5oPMIP8AghV8DbT/AI8v2wf2h4PTyfiHbr/7ZVdh/wCCKXw6tBix/bs/aYh9NnxNhH8rMV7V/wAJx/wUL/6Nf%2BDP/h%2BNW/8AmXo/4Tj/AIKF/wDRr/wZ/wDD8at/8y9WuHslW1BffL/5M555bhZ/E5v/ALi1/wD5oPHY/wDgjnpFt/x5f8FE/wBqCLHTb8UlH8rYUvwH/ZFl/ZV/4KE%2BDVf9pf4p/EQa78GfGW0fEvxX/af9neRq3hb/AI9vkXyvM835%2Bu7yo/7tew/8Jx/wUL/6Nf8Agz/4fjVv/mXqh4H8D/tWeMf2rPDnxu%2BN3w4%2BHvhnRvDPw98Q6HDD4V%2BId9rV1d3WpX2iXCMyXGkWKRRomlygsHdi0qALjJHRh8oy7C1VUpU7SXnL8nNr8BUcrwVCqqsIvmXedR/hKpJfeme60UUV6J6AVzvxX%2BK/gH4I%2BAr34mfE3XG0/R7B4I5porOa5lklmmSCCCKCBHlnmlmljijijRpJJJERFZmAPRV5B%2B2v8N/H3xD%2BE%2BkX3wy8MtruseE/H/h3xPD4dS7hgfVotP1O3uJ7aOSd0iWYwpIYvNdIzKsYd0Ul1ANyy/as%2BAt/8Crv9pJPHLxeENPa4jv7280i7guba4guGtZbWSykiW6S6W4UwfZmiE3m4jCFiFOAP28P2cJfBknjmy1DxleW9vrU%2Bk6hpun/AAs8Q3GqadeQwR3Ekd3p0Vg15Z4hmhl3TwopSeJgSsiE%2BKa98Af2iPGv7IPxd8D3fwHvbPXfiX42uPFY8NXutaZvt7CTU7ZX02O5iunjg1VrC0adJ1Jt4Lq5jZbhjEXHP6F4D/bg%2BBnwK8Y%2BDvgD%2BzZ8QLVfiR8Wpbm2nvvG%2Bh6t4s8IeHn0mxiur64vNR1Yx6lqMl1b3KWvm3l19niltjIzJbLaUAfbfgzxj4V%2BIvg/SfiD4F1%2B11bRNd02DUNG1WxmEkF5azRrJFNGw4ZHRlYEdQQa8E/Yh8M6d4W/Z48WXtj5hF7%2B0N4/1O%2BdhnB/4TzVN7cDoqRj8Fr074c/C6x0D9mfw58HPhna%2BIPhjZ6X4RsNK0OzgbT7nUvDkEFvHFFBmQXlpJLEiCMk%2BfGSCQz8NXz3%2BxJq37b3hD4Na14X8DfCr4feMtLsPi78QYbfxV4x%2BLN1peqaoV8Y6wHnubWx8NyW0MjPuJWFth4IVAdippNp9i41KkYSgnpK1/Ozuvuep9Xf8Jz4J/6HDS//AAYR/wDxVL/wnPgn/ocNK/8ABhH/APFV5b/wnH/BQv8A6Nf%2BDP8A4fjVv/mXo/4Tj/goX/0a/wDBn/w/Grf/ADL0yD1L/hOfBP8A0OGlf%2BDCP/4qj/hOfBP/AEOGlf8Agwj/APiq8t/4Tj/goX/0a/8ABn/w/Grf/MvR/wAJx/wUL/6Nf%2BDP/h%2BNW/8AmXoA1L74GfsUap8ONJ%2BDup/B34W3HhHQL37ZoXhWfw9pr6bptzukbzoLYp5UMm6WU70UHMjnPzHOhp/w4/ZR0m1tbLSvAfw9tobK00m0sobfS7FFt4NLnkuNMiQBQES0nlllt1GBBJI7xhWYk%2BZ/BH9o79u348fBjwh8cfCv7KHwktdL8Z%2BF9P13TbbUPjrqizwwXdtHcRpIE8MMocLIAwVmGQcEjmuo/wCE4/4KF/8ARr/wZ/8AD8at/wDMvQBq2PwP/Yq0vxTrfjnTPhB8LrfW/EsF1D4j1iDw/pqXWqx3WPtKXMoTfOsu1fMDkh8DdnFdB430r4AfEzwRc/DL4kab4O8QeG7yFIrvw9rkNpd2M8aMrIjwSho2VWVSAVwCoI6CuK/4Tj/goX/0a/8ABn/w/Grf/MvR/wAJx/wUL/6Nf%2BDP/h%2BNW/8AmXoA6oeCf2YR4et/CI8I%2BAxpNp4bn8PWul/YLL7PDpE4jWbTkj27VtZBDEHgA8thEgKnaMYd1%2Bz5%2BwxffC21%2BB178EPhPN4Ksr831n4Pl8NaY2lwXR35nS0MfkpJ%2B8f5wob5255NcT8bv2jv27fgP8GPF/xx8VfsofCS60vwZ4X1DXdSttP%2BOuqNPNBaW0lxIkYfwwqlysZChmUZIyQOa6j/AITj/goX/wBGv/Bn/wAPxq3/AMy9AG74g%2BE37IHiyx8MaX4q%2BGnw21O28Eyxy%2BDLfUNG0%2BaPQHQIEayV0ItSojTBi2kbFx0FWtN8A/staN8Vb/47aP4L8AWnjfVbZbfVPGVtptjHqt5CEjQRy3aqJpECRRKFZiAI0HRRjmP%2BE4/4KF/9Gv8AwZ/8Pxq3/wAy9H/Ccf8ABQv/AKNf%2BDP/AIfjVv8A5l6APUf%2BE58E/wDQ4aX/AODCP/4qjwYd%2BhmdQdk19dyxEjG5HuZGVvoVII9jXl3/AAnH/BQv/o1/4M/%2BH41b/wCZeuX%2BLv7R37dvwa8KWni/xH%2Byh8JLm3vPFGiaFHHZfHXVGcT6pqtrpkDnd4YUbFmu42c5yEViAxwpAPo6ivGf%2BE4/4KF/9Gv/AAZ/8Pxq3/zL0f8ACcf8FC/%2BjX/gz/4fjVv/AJl6APZqK8Z/4Tj/AIKF/wDRr/wZ/wDD8at/8y9H/Ccf8FC/%2BjX/AIM/%2BH41b/5l6APZqK%2BcfH37R37dvw78V%2BCPCGsfsofCSa48eeKJdC0qS2%2BOuqFIJ49K1DUy8u7wwCE8nTplBUMd7oMYJZeo/wCE4/4KF/8ARr/wZ/8AD8at/wDMvQB7NRXjP/Ccf8FC/wDo1/4M/wDh%2BNW/%2BZej/hOP%2BChf/Rr/AMGf/D8at/8AMvQB7NRXjP8AwnH/AAUL/wCjX/gz/wCH41b/AOZeuX1b9o79u3R/jPoHwOuP2UPhI2qeIvC%2Br67Z3KfHXVPIjg065023mRyfDG4OzapAVAUghJMlSFDAH0dRXjP/AAnH/BQv/o1/4M/%2BH41b/wCZej/hOP8AgoX/ANGv/Bn/AMPxq3/zL0AezUV4z/wnH/BQv/o1/wCDP/h%2BNW/%2BZej/AITj/goX/wBGv/Bn/wAPxq3/AMy9AHs1FfOOk/tHft26x8Z9f%2BB1v%2Byh8JF1Tw74X0jXby5f466p5EkGo3OpW8KIR4Y3F1bS5ywKgAPHgsSwXqP%2BE4/4KF/9Gv8AwZ/8Pxq3/wAy9AHs1FeM/wDCcf8ABQv/AKNf%2BDP/AIfjVv8A5l6P%2BE4/4KF/9Gv/AAZ/8Pxq3/zL0AezUV4z/wAJx/wUL/6Nf%2BDP/h%2BNW/8AmXrl/AP7R37dvxE8V%2BN/CGj/ALKHwkhuPAfiiLQtVkufjrqgSeeTStP1MPFt8MElPJ1GFSWCnejjGAGYA%2BjqK8Z/4Tj/AIKF/wDRr/wZ/wDD8at/8y9H/Ccf8FC/%2BjX/AIM/%2BH41b/5l6APZq8Z/Zf8A%2BS3/ALR3/ZZrH/1CvC9H/Ccf8FC/%2BjX/AIM/%2BH41b/5l6t/srfDn40%2BD9Y%2BKHjv46aB4X0nVPH3xCi1yz0rwn4ludWt7W1i0HR9MVXuLiys2aRpNOlcqItoWRBuY5wAet0UUUAFFFFABRRRQAUUUUAFFFFABRRRQAUUUUAFFFFABRRRQAUUUUAFFFFABXyv%2B09%2B1p8XPhh8Y/FmteAfDvg%2BTwx8H/D/h%2B98anWtIuJtV1S31e/lS5gsLiO4jSy8i2s47jMkU4uZCkZEPl%2BafqivGfjP%2BxD8OPjd8Uj8TNc8c%2BKtLi1G10i18X%2BGtGurVNO8UwaXeyXtjFfLLbyTBY5ppc/Z5YDLHIYpjLGFQAHs1FFFABRRRQB8x%2BHP2lfiZD%2B3/AOKPg/8AEbWPD3hPw2viC00TwZFqPwi1lLrxjANAg1HEHiNrtdOaWO7udQAtBC8nl2kwCgs0i/TleV%2BLP2WoPH/xk0j4p%2BPfjf411fSvD2ux61oHgC4OmRaNY6hHbvBHOGhskvZdnmSSKk11JGJH3bPkQL6pQAUUUUAeL/8ABQX4u/HD9n79kfxp8evgFe%2BFI9Y8E6Fd65dQeMNFub62u7S1tpZnt0S2urZkldkRRIXKoCxKPwK8/wDHn7Wnxc8F/HjxbqfhTw74Qi%2BHnhD4x%2BEfh94ys5tIuDreq6rrsGipHqEN2lwsMccH9uaTGYpLeV5EhnxLHtQV7D%2B1j%2BzjZftafAjXv2fda%2BKvinwjpPieylsdcv8Awgunfa7mylieKa23X9pdRojq/LIiyAqNrrzni4P2AfB0/wARbP4i%2BKvjj4%2B11jrOk654m0bUJdKisfE%2BuaYkaWOrXsdtYRMtxEILTC2zQQMbG2LxMY8kA97ooooAK8X/AGyfi78cPgla%2BAfGPwsvfCn9jah8TPDnh7xfY%2BINFubm6ubXVdZsdNBs5YbqFLaSNbmWTfIk6koi7OSa9oryr9q79lt/2qvDeheF5/j7438DW%2BheJLDXUbwXDo7Pd3tjeQXlm0p1LT7wbYri3jcLGEDcrJvU7QAecfs8/tK/EzW/2qvFvwR%2BKGr%2BHvCenQ%2BKdbt/BPhKT4Razplzr1tC6Sm/t9auLv7BqDsZJpZYraAvyXYrhifpyvJdJ/ZRD/GTRfjL8R/2gPHfjWbwvd3l34T0LxCNJhsNHurm3ktZLiJbDT7aWV/s808K%2BfJKqLO%2B0AkEetUAFFFFAHh/7d3xc%2BPH7P3wa1f46/Cjxj4FsdP8LaLc3l7ovizwze39z4hvcotnplnJbXsH2ea4lIt0byrpmlniCwsflbz/AOCP7X3xn1z4l%2BCv7W8GeEtI%2BGnjf4n%2BKPht4V8Nadpc0er6Jf6BDq2%2Bee5Fw1vNBI3h/U0WGO3iMatbHzJMsB6f%2B0r%2ByDB%2B0l488EfECb9oHx34QufAN3c3ui2PhiLRp7OS9lQRreTQanp14jzwx%2BYsMgCmMTykfM2RV8B/sNfD3wH8Zbf4uw/EXxdqUGna7qevaJ4Q1K5sv7J0rW9RjePUNUgSK1Sfz5xPdlleZ4Ua%2BuTHFH5nAB7XRRRQAV8v/tc/Hj9pf4LfETT/AAppUPgDxro/jmHWrbRfhzF4PvpNYS1tNDuruS/uJxevFdWwuore2khFrED9vhQTGRkST6grw6b9ia4j/aP8V/tNaJ%2B1X8S9O1fxbpsOnXOlwweH57TT7OGBo4baza50mW5t4lld7rYs2153LuHB20AM/YQ/aD8b/Hv4e3l18V/H2jX3i7ThZtr/AIbsvhdq/hG80B57ZZRBc2Wr3U9w4Lb/AC7gBI5FQ7Q20mvdK83%2BB37N2nfBnxP4k%2BIesfFLxT448VeK4rG31jxP4uawW5e0sxN9ltUi0%2B1tbaOKNrm5cbYQzNcSFmbIx6RQAUUUUAfHP/BQT9uP4qfsYeOf7T1zRdA8Y%2BEX0bUdbt/Csvw51Oylt003Rr7Ukk/4SKa6fTJ7v7Xpo2WKwJdCOZZQNsLSN69%2BzR8Xfjnq3xU8b/s9ftHXPhTUPE/hHSdD1qPWvBWkXNhY3NjqgvI0iMFzc3LrLFcaddqX83EiGJtkZJUVvjr%2Bwl4I/ac1q6tfj/8AFvxr4o8F3MlxIvwyvJNNh0WKSaxmsmbfb2Ud9IBHcTMElunQO%2B7b8iBen/Z8/Zm0j4B3mveIrv4oeLPHHiPxIbOPVvFXjW4s3vpba0iMVraj7HbW8KxRB5WGI97PPK7s7OTQB6VRRRQAV8R/tT/tlftZ/Bv41eIPhR4O8N%2BHPGup2Gi3Gu%2BGAnwP8QRyaKBqOmWqGFvtzjxNILHVLjzv7L8p4WhKyiMTCOvtyvD9e/Yt1PxL49PxO1r9rn4oza3p8F5F4NvCmgAeFVupoZJ/skY0nZOzRwLb7r1bpliZwpV3ZyAdV%2Byx8WH%2BMnwjg8WXvxM0bxVfw6jdWWqX2jeDL7w6La4ilZWtZtN1C4nurOeMYV45nD5%2BbaoYCvRq4b4B/AXw98APDOp6NpXinW/EGo6/r1xrfiTxJ4jmga91W/mCI08ot4oYExHFDEqQxRxqkSAKMEnuaACiiigAooooAKKKKACiiigCj4o8Q2HhLw1qPivVQ5tdMsZru5ES5by40LtgdzhTXzn%2BxN%2B0n8a/H/inR/Bnxs8PeDLMeOvhbZfEbwzD4M0q4tBpkd5cE3en3ZmuJRdzRvc2z/bEEAnaWYmCPaC/0td2lrf2stje26TQzRtHNFKoZXUjBUg8EEcYryH9mb9ivwF%2BzBqr6voHxB8W%2BJZbbwxY%2BGfDo8WXtrMNA0KzeR7fTbU29vCWjUyfNLOZriQRxeZM/lrgA9iooooAK4X9qDx58RfhZ%2BzR8RPid8H/AAouveLfDngXV9U8LaG1jNdDUdRt7OWW2tjDAyyzCSVETy42DtuwpBINd1Wd4t0S/wDEvhjUPD%2Bl%2BK9R0K5vbSSG31rSFga6sXZSBNELiKWIup5AkjdMj5lYZBAPLv2Kfi1P8UPhnfWWrfELw/rOp%2BHdVXTrzTNE%2BGGp%2BDn0NBbQSRWdxpWqXM9zC4RxIrt5aPFLFsTA3v7FXnnwH/Z20n4HXniXxHc/ETxJ4x8SeL9RhvPEXinxW9mLu6MNulvBEI7G2traKKONAFWOFMlnZizMzH0OgAooooA%2BXP2qP2sfih%2Bzh8XvHFl8StG8JeIvhfYfs7%2BL/HttoVvolwmqu2iDS1ntri5kuXt5op1vpwEFshUImXfLCu3/AGZ/i/8AHzVPi54y/Z1/aWfwleeKPDHhjw94lj1XwVpNzY2Ullqz6lbrbGG5ublzLDcaRdgyiQLIjxN5cZ3LUHxj/YV8O/HT46t8ZfHnx28cy6bN4K1PwjffD2GDRf7Eu9G1Jbb7faSF9Na9Ina0gdnF0HUoQjIjMh6T9nf9l3Q/2fb7WvEc/wAUPFvjfxDr9rYWV/4n8bXNpJemwsUkWzsx9ktrePyojPcOCUMjvcyu7uzZoA9PooooAK%2BRPjX%2B0v8AtbeDNd/aA8CW/hXwZ4svfAXh/wAKeJPhtY6T8P8AU7%2BdY9R1XUoQl5axXjy6jPAumxzqbYW5LkhV%2BVWr67rwuX9ijxDF8dPG3x/0L9tD4raVq3jfSLHTLmxsrPww1ppttZXFzPZpbCXRXk/dG8ulBmeUus5EnmFUKgHV/sqfFub4y/CkeJtR%2BJ2jeKdRtdVubHVrrR/BF/4bNncRN81rPpmo3E91aTopXckzBiGVtqqwr0muE%2BAfwD0D4A6FrNjp/i3XPEeq%2BJvEEuueJ/E3iSW3a91W/khhg82QW0MMEYWC3t4VSKKNFSFAFzknu6ACiiigD42/aW/a7/aW/Z4%2BM0Hw21lPhn41vtbggm8Iw6d4WvbSXwXeal4h0zw9pE2pyvfTC6inbV5wWiWzkcWN0sYZfMMXuP7Kvxf%2BJHxGHj/4ffGI6JP4q%2BGnjxvDWs6r4a06azsNT8zS9O1a3uIbeaeeS3za6pbo8bTS4kjkwxBGOFtv%2BCavhJrr4hv4h/aX%2BJ2s2/xJ1465rFvqR0LzLPUoriGfT7m2uotLS6U2D29uLSN5pIolhQMj859Y%2BAfwF0P4B%2BHtW02y8X654k1bxFr02teJ/FHiV7Y3%2Br30kcUPnTC1gggXZBBbwIkUUaLHBGoXgkgHdUUUUAMuftP2aT7Hs87YfK83O3djjOOcZr4g%2BK37XP7afw0%2BImufDa3tvAfjPXvDF74at9W8deCPgrr%2BrR%2BHLfVmvHvbCXSrPUp7u5mjhsrG6JinT93dQtLAgMTSfb13DJcWstvDdSQPJGyrPEFLxkjAZdwK5HUZBHqDXz38GP2AvEHwE%2BG1x8NPh3%2B3V8Yoo7rVn1ObWbyy8Jz6hLdyvLJczzTPoR%2B0yTvLukknEj5jTYUAwQD1n4CfEOy%2BK3wd8P8AxCsPiBo3ipNT08SPr/h/SZrC0u5ASshS1nmmltirqyNDJI7xsrKx3KQOvrkvgX8F/CX7Pvwv074U%2BCrm/uLKwluria%2B1W5E11fXd1cy3V1dTOFUNLNcTzSvtVV3SHaqrhR1tABVHxPD4kufDeoW/g3U7Gy1eSylXS7zU7B7q2guChEcksMcsTTRq2CyLJGWAIDqTuF6s3xjoN/4o8LX/AId0vxbqWg3N5avFBrWjiA3Vi5HE0QuIpYi6nkCSN0OPmVhkUAfD3w3/AG7P2tfjB8U9b%2BCXws034fJ4z02112%2Bk8Z%2BK/hdrWhrqmmaRa6LKljLol5fJqGnyvd%2BIdiTTzPH5UMlwkLrOgP2N8Avi1pvx8%2BBPgr466NpstnZ%2BNfCWm69aWcz7ngivLWO4WNiAMlRIAT6ivFtX/wCCZHgfWtcvviLd/tKfFNPiBqyXlrrXxJtr3SIdWv8ATLq2tbabTCiaaLOG2KWVow8i2ilWSBZVlDlmP0H4L8H%2BGvh54O0nwB4M0mLT9H0PTINP0mwhzstraGNY4o1zzhUVVH0oA06KKKAOX%2BNOo%2BONG%2BFuta38OfENjperWFmbqG%2B1Dwfe%2BIESOMh5QNOsZ4Lm8kaJXVIoZA5dlwrn5G%2BLfhL/AMFEfj94k8aaHqfje48I%2BBPBmpTzr4g8cXnwM8RTW2sX8Ov3WkIlzKt9GnhmeS1tLX9xqjSSwPKsb52BK%2B2/iZ4M13x74Sm8OeG/ilr/AINvJJY3i1/wzFYvdwbWBKqt/bXMDBgCpDxNwTjBwR4rdf8ABObwpqHg%2B4%2BG2rftIfE278Ma5qE1/wCPNAmuNHEXjC7nvGuria%2BlXTRcReaWWFo7OW1iEMSRqijduAPomiiigAooooAKKKKACiiigAooooAKKKKACiiigAooooAKKKKACiiigAooooAKKKKACiiigAooooAKKKKACiiigAooooAKKKKACiiigAooooAKKKKACiiigAooooAKKKKACiiigAooooAKKKKACiiigAooooAKKKKACiiigAooooAKKKKACiiigAooooAKKKKACiiigAooooAKKKKACiiigAooooAKKKKACiiigAooooAKKKKACiiigAooooAKKKKACiiigAooooAKKKKACiiigAooooAKKKKACiiigAooooAKKKKACiiigAooooAKKKKACiiigD//2Q%3D%3D\">"
            ]
          },
          "metadata": {
            "tags": []
          }
        }
      ]
    },
    {
      "cell_type": "markdown",
      "metadata": {
        "id": "0kGQrJEz357u"
      },
      "source": [
        "# Submit a linear model"
      ]
    },
    {
      "cell_type": "code",
      "metadata": {
        "id": "z0zre8vD357u"
      },
      "source": [
        "## GRADED PART, DO NOT CHANGE!\n",
        "# Testing shapes \n",
        "grader.set_answer(\"9XaAS\", grading_utils.get_tensors_shapes_string([W, b, input_X, input_y, logits, probas, classes]))\n",
        "# Validation loss\n",
        "grader.set_answer(\"vmogZ\", s.run(loss, {input_X: X_val_flat, input_y: y_val_oh}))\n",
        "# Validation accuracy\n",
        "grader.set_answer(\"RMv95\", accuracy_score(y_val, s.run(classes, {input_X: X_val_flat})))"
      ],
      "execution_count": null,
      "outputs": []
    },
    {
      "cell_type": "code",
      "metadata": {
        "id": "aGyPeuWs357w"
      },
      "source": [
        "# you can make submission with answers so far to check yourself at this stage\n",
        "grader.submit(COURSERA_EMAIL, COURSERA_TOKEN)"
      ],
      "execution_count": null,
      "outputs": []
    },
    {
      "cell_type": "markdown",
      "metadata": {
        "id": "o7FYhJd-357x"
      },
      "source": [
        "# MLP with hidden layers"
      ]
    },
    {
      "cell_type": "markdown",
      "metadata": {
        "id": "OEMwJhVz357y"
      },
      "source": [
        "Previously we've coded a dense layer with matrix multiplication by hand. \n",
        "But this is not convenient, you have to create a lot of variables and your code becomes a mess. \n",
        "In TensorFlow there's an easier way to make a dense layer:\n",
        "```python\n",
        "hidden1 = tf.layers.dense(inputs, 256, activation=tf.nn.sigmoid)\n",
        "```\n",
        "\n",
        "That will create all the necessary variables automatically.\n",
        "Here you can also choose an activation function (remember that we need it for a hidden layer!).\n",
        "\n",
        "Now define the MLP with 2 hidden layers and restart training with the cell above.\n",
        "\n",
        "You're aiming for ~0.97 validation accuracy here."
      ]
    },
    {
      "cell_type": "code",
      "metadata": {
        "id": "j8JQv7-0357y"
      },
      "source": [
        "# write the code here to get a new `step` operation and then run the cell with training loop above.\n",
        "# name your variables in the same way (e.g. logits, probas, classes, etc) for safety.\n",
        "### YOUR CODE HERE ###"
      ],
      "execution_count": null,
      "outputs": []
    },
    {
      "cell_type": "markdown",
      "metadata": {
        "id": "CdmF2ydl3570"
      },
      "source": [
        "# Submit the MLP with 2 hidden layers\n",
        "Run these cells after training the MLP with 2 hidden layers"
      ]
    },
    {
      "cell_type": "code",
      "metadata": {
        "id": "v7ZA2hR63570"
      },
      "source": [
        "## GRADED PART, DO NOT CHANGE!\n",
        "# Validation loss for MLP\n",
        "grader.set_answer(\"i8bgs\", s.run(loss, {input_X: X_val_flat, input_y: y_val_oh}))\n",
        "# Validation accuracy for MLP\n",
        "grader.set_answer(\"rE763\", accuracy_score(y_val, s.run(classes, {input_X: X_val_flat})))"
      ],
      "execution_count": null,
      "outputs": []
    },
    {
      "cell_type": "code",
      "metadata": {
        "id": "GbxncDLG3572"
      },
      "source": [
        "# you can make submission with answers so far to check yourself at this stage\n",
        "grader.submit(COURSERA_EMAIL, COURSERA_TOKEN)"
      ],
      "execution_count": null,
      "outputs": []
    },
    {
      "cell_type": "code",
      "metadata": {
        "id": "XpI0N7lM3573"
      },
      "source": [
        ""
      ],
      "execution_count": null,
      "outputs": []
    }
  ]
}
